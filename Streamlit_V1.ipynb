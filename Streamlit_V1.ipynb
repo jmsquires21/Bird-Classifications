{
 "cells": [
  {
   "cell_type": "markdown",
   "id": "59016436-e39c-4d1b-b1f1-4110466624bb",
   "metadata": {},
   "source": [
    "# Streamlit Demo"
   ]
  },
  {
   "cell_type": "code",
   "execution_count": 2,
   "id": "73230d77-d4b3-4539-953c-ec388459878a",
   "metadata": {},
   "outputs": [],
   "source": [
    "import streamlit as st\n",
    "import pandas as pd\n",
    "\n",
    "from keras.preprocessing.image import load_img\n",
    "from keras.preprocessing.image import img_to_array\n",
    "from keras.applications.vgg16 import preprocess_input\n",
    "from keras.applications.vgg16 import decode_predictions\n",
    "from keras.applications.vgg16 import VGG16"
   ]
  },
  {
   "cell_type": "code",
   "execution_count": 1,
   "id": "6a280bc1-081a-475b-86d2-d82eb751054e",
   "metadata": {},
   "outputs": [
    {
     "ename": "NameError",
     "evalue": "name 'st' is not defined",
     "output_type": "error",
     "traceback": [
      "\u001b[1;31m---------------------------------------------------------------------------\u001b[0m",
      "\u001b[1;31mNameError\u001b[0m                                 Traceback (most recent call last)",
      "\u001b[1;32m<ipython-input-1-a105bbd329c8>\u001b[0m in \u001b[0;36m<module>\u001b[1;34m\u001b[0m\n\u001b[1;32m----> 1\u001b[1;33m \u001b[0mpage\u001b[0m \u001b[1;33m=\u001b[0m \u001b[0mst\u001b[0m\u001b[1;33m.\u001b[0m\u001b[0mselectbox\u001b[0m\u001b[1;33m(\u001b[0m\u001b[1;34m\"Choose your page\"\u001b[0m\u001b[1;33m,\u001b[0m \u001b[1;33m[\u001b[0m\u001b[1;34m\"Overview\"\u001b[0m\u001b[1;33m,\u001b[0m \u001b[1;34m\"FAQ\"\u001b[0m\u001b[1;33m]\u001b[0m\u001b[1;33m)\u001b[0m\u001b[1;33m\u001b[0m\u001b[1;33m\u001b[0m\u001b[0m\n\u001b[0m\u001b[0;32m      2\u001b[0m \u001b[1;33m\u001b[0m\u001b[0m\n\u001b[0;32m      3\u001b[0m \u001b[1;32mif\u001b[0m \u001b[0mpage\u001b[0m \u001b[1;33m==\u001b[0m \u001b[1;34m\"Overview\"\u001b[0m\u001b[1;33m:\u001b[0m\u001b[1;33m\u001b[0m\u001b[1;33m\u001b[0m\u001b[0m\n\u001b[0;32m      4\u001b[0m     \u001b[0mst\u001b[0m\u001b[1;33m.\u001b[0m\u001b[0mtitle\u001b[0m\u001b[1;33m(\u001b[0m\u001b[1;34m'Project 5: Predicting Covid Deaths in Nursing Homes'\u001b[0m\u001b[1;33m)\u001b[0m\u001b[1;33m\u001b[0m\u001b[1;33m\u001b[0m\u001b[0m\n\u001b[0;32m      5\u001b[0m     \u001b[0mst\u001b[0m\u001b[1;33m.\u001b[0m\u001b[0msubheader\u001b[0m\u001b[1;33m(\u001b[0m\u001b[1;34m'By: Shirley Lin, Jamie Squires, Sam Waldner'\u001b[0m\u001b[1;33m)\u001b[0m\u001b[1;33m\u001b[0m\u001b[1;33m\u001b[0m\u001b[0m\n",
      "\u001b[1;31mNameError\u001b[0m: name 'st' is not defined"
     ]
    }
   ],
   "source": [
    "page = st.selectbox(\"Choose your page\", [\"Overview\", \"FAQ\"]) \n",
    "\n",
    "if page == \"Overview\":\n",
    "    st.title('Project 5: Predicting Covid Deaths in Nursing Homes')\n",
    "    st.subheader('By: Shirley Lin, Jamie Squires, Sam Waldner')\n",
    "    st.markdown(\"***\")\n",
    "    st.markdown('US Government oversight is comprehensive in how it scores and evaluates nursing homes. However, they have yet to incorporate any COVID related data into these scores. This web-app concept is part of a project that aimed to predict COVID deaths in nursing homes based on a wide variety of features provided by the US Governemnt. We hypothesized incorrectly that the overall safety, sanitation, and operational efficiency of a nursing home was indicative of how COVID affected each specific nursing homes. With the data we had available there was not enough evidence to disprove the null hypothesis; however, we concluded that any information relating to COVID is still an important decision-making tool for people looking to find a safe nursing home for their loved ones.')\n",
    "    st.markdown('If you navigate to the next page you will find an intuitive tool that can be used by anyone to see the nursing homes available in their area with basic safety and COVID information included. If there are any Government listed nursing home facilities in your ZIP code, it will return some of the safer ones in that state.')\n",
    "    st.markdown('Below we can see the coefficients from a LinearRegression attempting to predict COVID deaths using Government data. We can interpret this as for every one unit increase in a feature, deaths either increase or decrease by the supplied amount. It is clear that the supplied data is insufficient, and because COVID data is **not** used in the \"Overall Score\" that is carefully constructed through Government regulation we have created this tool for the average consumer to use.')\n",
    "    st.image('../data/coefficients3.png', caption='Coefficients Affecting Covid Deaths in Nursing homes')"
   ]
  },
  {
   "cell_type": "code",
   "execution_count": null,
   "id": "9c13d72d-b0a7-4c53-8ae6-7e628c62e954",
   "metadata": {},
   "outputs": [],
   "source": [
    "### Excluding Imports ###\n",
    "st.title(\"Upload + Classification Example\")\n",
    "\n",
    "uploaded_file = st.file_uploader(\"Choose an image...\", type=\"jpg\")\n",
    "if uploaded_file is not None:\n",
    "    image = Image.open(uploaded_file)\n",
    "    st.image(image, caption='Uploaded Image.', use_column_width=True)\n",
    "    st.write(\"\")\n",
    "    st.write(\"Classifying birb...\")\n",
    "    label = predict(uploaded_file)\n",
    "    st.write('%s (%.2f%%)' % (label[1], label[2]*100))"
   ]
  },
  {
   "cell_type": "code",
   "execution_count": null,
   "id": "8347116e-6ce1-44e6-87ba-2164d829efb9",
   "metadata": {},
   "outputs": [],
   "source": [
    "\n",
    "def predict(image1): \n",
    "    model = VGG16()\n",
    "    image = load_img(image1, target_size=(224, 224))\n",
    "    # convert the image pixels to a numpy array\n",
    "    image = img_to_array(image)\n",
    "    # reshape data for the model\n",
    "    image = image.reshape((1, image.shape[0], image.shape[1], image.shape[2]))\n",
    "    # prepare the image for the VGG model\n",
    "    image = preprocess_input(image)\n",
    "    # predict the probability across all output classes\n",
    "    yhat = model.predict(image)\n",
    "    # convert the probabilities to class labels\n",
    "    label = decode_predictions(yhat)\n",
    "    # retrieve the most likely result, e.g. highest probability\n",
    "    label = label[0][0]\n",
    "    return label "
   ]
  }
 ],
 "metadata": {
  "kernelspec": {
   "display_name": "Python 3",
   "language": "python",
   "name": "python3"
  },
  "language_info": {
   "codemirror_mode": {
    "name": "ipython",
    "version": 3
   },
   "file_extension": ".py",
   "mimetype": "text/x-python",
   "name": "python",
   "nbconvert_exporter": "python",
   "pygments_lexer": "ipython3",
   "version": "3.8.8"
  }
 },
 "nbformat": 4,
 "nbformat_minor": 5
}
