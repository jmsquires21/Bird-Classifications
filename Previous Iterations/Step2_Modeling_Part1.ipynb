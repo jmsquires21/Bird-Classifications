{
 "cells": [
  {
   "cell_type": "markdown",
   "id": "1d998daf-7a6c-40d8-8eb6-c5970eab6eca",
   "metadata": {},
   "source": [
    "# Refined Modeling Using 12 Order Classifications"
   ]
  },
  {
   "cell_type": "code",
   "execution_count": 1,
   "id": "56b9861c-0add-42cc-971c-7c05f463ed3c",
   "metadata": {},
   "outputs": [],
   "source": [
    "# Imports & Setup:\n",
    "\n",
    "import numpy as np\n",
    "import pandas as pd\n",
    "import matplotlib.pyplot as plt\n",
    "import seaborn as sns\n",
    "import os\n",
    "import PIL\n",
    "import PIL.Image\n",
    "from PIL import Image\n",
    "import tensorflow as tf\n",
    "import tensorflow_datasets as tfds\n",
    "from sklearn.model_selection import train_test_split\n",
    "from sklearn import metrics\n",
    "from sklearn.metrics import ConfusionMatrixDisplay\n",
    "\n",
    "%matplotlib inline\n",
    "\n",
    "import warnings\n",
    "\n",
    "warnings.filterwarnings('ignore')\n",
    "\n",
    "from tensorflow.keras.models import Sequential\n",
    "from tensorflow.keras.layers import Dense, Dropout, Flatten, Conv2D, MaxPooling2D\n",
    "from tensorflow.keras import utils\n",
    "from tensorflow.keras import layers\n",
    "from tensorflow.keras.callbacks import EarlyStopping\n",
    "\n",
    "tf.random.set_seed(42)"
   ]
  },
  {
   "cell_type": "markdown",
   "id": "0458dca6-c4f4-418c-9d8a-9ba5eebabf18",
   "metadata": {},
   "source": [
    "### Read in Data"
   ]
  },
  {
   "cell_type": "code",
   "execution_count": 2,
   "id": "8a5b387a-b4c8-496b-ba74-caf178e89525",
   "metadata": {},
   "outputs": [],
   "source": [
    "# function to load in and process images\n",
    "def load_image(path):\n",
    "    images = Image.open(f'./../CUB_200_2011/images/{path}') \n",
    "    new_image=images.resize((128,128))\n",
    "    color_image=new_image.convert(\"RGB\")\n",
    "    arrays1 = np.asarray(color_image)\n",
    "    floaters= arrays1.astype('float32')\n",
    "    floaters2=floaters/255.0\n",
    "    return floaters2"
   ]
  },
  {
   "cell_type": "code",
   "execution_count": 3,
   "id": "51dbcb63-e40b-41bc-9081-171de51632c5",
   "metadata": {},
   "outputs": [
    {
     "data": {
      "text/html": [
       "<div>\n",
       "<style scoped>\n",
       "    .dataframe tbody tr th:only-of-type {\n",
       "        vertical-align: middle;\n",
       "    }\n",
       "\n",
       "    .dataframe tbody tr th {\n",
       "        vertical-align: top;\n",
       "    }\n",
       "\n",
       "    .dataframe thead th {\n",
       "        text-align: right;\n",
       "    }\n",
       "</style>\n",
       "<table border=\"1\" class=\"dataframe\">\n",
       "  <thead>\n",
       "    <tr style=\"text-align: right;\">\n",
       "      <th></th>\n",
       "      <th>F1</th>\n",
       "      <th>Image Id</th>\n",
       "      <th>Image Name</th>\n",
       "      <th>Is Training Image</th>\n",
       "      <th>Class Id</th>\n",
       "      <th>Class Name</th>\n",
       "      <th>Species Gen</th>\n",
       "      <th>Order</th>\n",
       "      <th>Order_Num_Seq</th>\n",
       "      <th>Species</th>\n",
       "      <th>Species_Num_Seq</th>\n",
       "      <th>Family</th>\n",
       "      <th>Family_Num_Seq</th>\n",
       "    </tr>\n",
       "  </thead>\n",
       "  <tbody>\n",
       "    <tr>\n",
       "      <th>0</th>\n",
       "      <td>0</td>\n",
       "      <td>1</td>\n",
       "      <td>001.Black_footed_Albatross/Black_Footed_Albatr...</td>\n",
       "      <td>0</td>\n",
       "      <td>1</td>\n",
       "      <td>001.Black_footed_Albatross</td>\n",
       "      <td>Albatrosses</td>\n",
       "      <td>PROCELLARIIFORMES</td>\n",
       "      <td>11</td>\n",
       "      <td>Albatrosses</td>\n",
       "      <td>1</td>\n",
       "      <td>Diomedeidae</td>\n",
       "      <td>11</td>\n",
       "    </tr>\n",
       "    <tr>\n",
       "      <th>1</th>\n",
       "      <td>1</td>\n",
       "      <td>2</td>\n",
       "      <td>001.Black_footed_Albatross/Black_Footed_Albatr...</td>\n",
       "      <td>1</td>\n",
       "      <td>1</td>\n",
       "      <td>001.Black_footed_Albatross</td>\n",
       "      <td>Albatrosses</td>\n",
       "      <td>PROCELLARIIFORMES</td>\n",
       "      <td>11</td>\n",
       "      <td>Albatrosses</td>\n",
       "      <td>1</td>\n",
       "      <td>Diomedeidae</td>\n",
       "      <td>11</td>\n",
       "    </tr>\n",
       "    <tr>\n",
       "      <th>2</th>\n",
       "      <td>2</td>\n",
       "      <td>3</td>\n",
       "      <td>001.Black_footed_Albatross/Black_Footed_Albatr...</td>\n",
       "      <td>0</td>\n",
       "      <td>1</td>\n",
       "      <td>001.Black_footed_Albatross</td>\n",
       "      <td>Albatrosses</td>\n",
       "      <td>PROCELLARIIFORMES</td>\n",
       "      <td>11</td>\n",
       "      <td>Albatrosses</td>\n",
       "      <td>1</td>\n",
       "      <td>Diomedeidae</td>\n",
       "      <td>11</td>\n",
       "    </tr>\n",
       "    <tr>\n",
       "      <th>3</th>\n",
       "      <td>3</td>\n",
       "      <td>4</td>\n",
       "      <td>001.Black_footed_Albatross/Black_Footed_Albatr...</td>\n",
       "      <td>1</td>\n",
       "      <td>1</td>\n",
       "      <td>001.Black_footed_Albatross</td>\n",
       "      <td>Albatrosses</td>\n",
       "      <td>PROCELLARIIFORMES</td>\n",
       "      <td>11</td>\n",
       "      <td>Albatrosses</td>\n",
       "      <td>1</td>\n",
       "      <td>Diomedeidae</td>\n",
       "      <td>11</td>\n",
       "    </tr>\n",
       "    <tr>\n",
       "      <th>4</th>\n",
       "      <td>4</td>\n",
       "      <td>5</td>\n",
       "      <td>001.Black_footed_Albatross/Black_Footed_Albatr...</td>\n",
       "      <td>1</td>\n",
       "      <td>1</td>\n",
       "      <td>001.Black_footed_Albatross</td>\n",
       "      <td>Albatrosses</td>\n",
       "      <td>PROCELLARIIFORMES</td>\n",
       "      <td>11</td>\n",
       "      <td>Albatrosses</td>\n",
       "      <td>1</td>\n",
       "      <td>Diomedeidae</td>\n",
       "      <td>11</td>\n",
       "    </tr>\n",
       "  </tbody>\n",
       "</table>\n",
       "</div>"
      ],
      "text/plain": [
       "   F1  Image Id                                         Image Name  \\\n",
       "0   0         1  001.Black_footed_Albatross/Black_Footed_Albatr...   \n",
       "1   1         2  001.Black_footed_Albatross/Black_Footed_Albatr...   \n",
       "2   2         3  001.Black_footed_Albatross/Black_Footed_Albatr...   \n",
       "3   3         4  001.Black_footed_Albatross/Black_Footed_Albatr...   \n",
       "4   4         5  001.Black_footed_Albatross/Black_Footed_Albatr...   \n",
       "\n",
       "   Is Training Image  Class Id                  Class Name  Species Gen  \\\n",
       "0                  0         1  001.Black_footed_Albatross  Albatrosses   \n",
       "1                  1         1  001.Black_footed_Albatross  Albatrosses   \n",
       "2                  0         1  001.Black_footed_Albatross  Albatrosses   \n",
       "3                  1         1  001.Black_footed_Albatross  Albatrosses   \n",
       "4                  1         1  001.Black_footed_Albatross  Albatrosses   \n",
       "\n",
       "               Order  Order_Num_Seq      Species  Species_Num_Seq  \\\n",
       "0  PROCELLARIIFORMES             11  Albatrosses                1   \n",
       "1  PROCELLARIIFORMES             11  Albatrosses                1   \n",
       "2  PROCELLARIIFORMES             11  Albatrosses                1   \n",
       "3  PROCELLARIIFORMES             11  Albatrosses                1   \n",
       "4  PROCELLARIIFORMES             11  Albatrosses                1   \n",
       "\n",
       "        Family  Family_Num_Seq  \n",
       "0  Diomedeidae              11  \n",
       "1  Diomedeidae              11  \n",
       "2  Diomedeidae              11  \n",
       "3  Diomedeidae              11  \n",
       "4  Diomedeidae              11  "
      ]
     },
     "execution_count": 3,
     "metadata": {},
     "output_type": "execute_result"
    }
   ],
   "source": [
    "class_map_dir= pd.read_csv('Tables/class_map_dir_output_new_classes_f.csv')\n",
    "class_map_dir.head(5)"
   ]
  },
  {
   "cell_type": "code",
   "execution_count": 103,
   "id": "d3c23e13-9689-424f-8736-5303034bff67",
   "metadata": {},
   "outputs": [],
   "source": [
    "class_names=[\n",
    "\"ANSERIFORMES\",\n",
    "\"CAPRIMULGIFORMES\",\n",
    "\"CHARADRIIFORMES\",\n",
    "\"CORACIIFORMES\",\n",
    "\"CUCULIFORMES\",\n",
    "\"GAVIIFORMES\",\n",
    "\"PASSERIFORMES\",\n",
    "\"PELECANIFORMES\",\n",
    "\"PICIFORMES\",\n",
    "\"PODICIPEDIFORMES\",\n",
    "\"PROCELLARIIFORMES\",\n",
    "\"SULIFORMES\"\n",
    "]"
   ]
  },
  {
   "cell_type": "code",
   "execution_count": 104,
   "id": "1b2de168-f975-48c4-90b5-cc5912fe8ac3",
   "metadata": {},
   "outputs": [],
   "source": [
    "proper_class_names=[i.title() for i in class_names]"
   ]
  },
  {
   "cell_type": "code",
   "execution_count": 130,
   "id": "23f5ac1b-23ea-45c0-92c7-4fd5bba80230",
   "metadata": {},
   "outputs": [
    {
     "data": {
      "text/plain": [
       "[(1, 'Anseriformes'),\n",
       " (2, 'Caprimulgiformes'),\n",
       " (3, 'Charadriiformes'),\n",
       " (4, 'Coraciiformes'),\n",
       " (5, 'Cuculiformes'),\n",
       " (6, 'Gaviiformes'),\n",
       " (7, 'Passeriformes'),\n",
       " (8, 'Pelecaniformes'),\n",
       " (9, 'Piciformes'),\n",
       " (10, 'Podicipediformes'),\n",
       " (11, 'Procellariiformes'),\n",
       " (12, 'Suliformes')]"
      ]
     },
     "execution_count": 130,
     "metadata": {},
     "output_type": "execute_result"
    }
   ],
   "source": [
    "order_names_sorted=list(enumerate(proper_class_names, start=1))\n",
    "order_names_sorted"
   ]
  },
  {
   "cell_type": "code",
   "execution_count": 140,
   "id": "ad63fc6a-4bce-4bc5-9e55-3423e7b5dc9f",
   "metadata": {},
   "outputs": [],
   "source": [
    "class_names_dict={\n",
    "0:\"ANSERIFORMES\",\n",
    "1:\"CAPRIMULGIFORMES\",\n",
    "2:\"CHARADRIIFORMES\",\n",
    "3:\"CORACIIFORMES\",\n",
    "4:\"CUCULIFORMES\",\n",
    "5:\"GAVIIFORMES\",\n",
    "6:\"PASSERIFORMES\",\n",
    "7:\"PELECANIFORMES\",\n",
    "8:\"PICIFORMES\",\n",
    "9:\"PODICIPEDIFORMES\",\n",
    "10:\"PROCELLARIIFORMES\",\n",
    "11:\"SULIFORMES\"\n",
    "}"
   ]
  },
  {
   "cell_type": "code",
   "execution_count": 144,
   "id": "b1219104-0d08-4b02-a9af-30e3f4cc92ea",
   "metadata": {},
   "outputs": [
    {
     "data": {
      "text/plain": [
       "'Pelecaniformes'"
      ]
     },
     "execution_count": 144,
     "metadata": {},
     "output_type": "execute_result"
    }
   ],
   "source": [
    "class_names_dict.get(7).title()"
   ]
  },
  {
   "cell_type": "markdown",
   "id": "568810db-52ce-411f-8701-7a6557072b30",
   "metadata": {},
   "source": [
    "## Build Neural Networks\n"
   ]
  },
  {
   "cell_type": "markdown",
   "id": "cbebb67e-c736-4aa4-b07f-57dea2ca273f",
   "metadata": {},
   "source": [
    "#### Prep Train/Test Split & Labels"
   ]
  },
  {
   "cell_type": "code",
   "execution_count": 6,
   "id": "05481bd6-cc25-4ce4-9007-686c2218c996",
   "metadata": {},
   "outputs": [],
   "source": [
    "class_map_dir_train=class_map_dir.loc[class_map_dir['Is Training Image']==1]\n",
    "list_of_images_train=[load_image(i) for i in class_map_dir_train['Image Name']]\n",
    "array_of_img_train=np.asarray(list_of_images_train)\n",
    "list_of_labels_train=class_map_dir_train['Order_Num_Seq']"
   ]
  },
  {
   "cell_type": "code",
   "execution_count": 7,
   "id": "b89080cb-4655-4d97-a2db-715aa17c6c9c",
   "metadata": {},
   "outputs": [],
   "source": [
    "class_map_dir_test=class_map_dir.loc[class_map_dir['Is Training Image']==0]\n",
    "list_of_images_test=[load_image(i) for i in class_map_dir_test['Image Name']]\n",
    "array_of_img_test=np.asarray(list_of_images_test)\n",
    "list_of_labels_test=class_map_dir_test['Order_Num_Seq']"
   ]
  },
  {
   "cell_type": "code",
   "execution_count": 9,
   "id": "6526ccc7-8fcd-4b21-8efc-e94b973eed0d",
   "metadata": {},
   "outputs": [
    {
     "name": "stdout",
     "output_type": "stream",
     "text": [
      "5994\n",
      "5994\n",
      "5794\n",
      "5794\n"
     ]
    }
   ],
   "source": [
    "# sanity check length of train datasets\n",
    "print(len(list_of_images_train))\n",
    "print(len(list_of_labels_train))\n",
    "\n",
    "# sanity check length of test datasets\n",
    "print(len(list_of_images_test))\n",
    "print(len(list_of_labels_test))"
   ]
  },
  {
   "cell_type": "code",
   "execution_count": 8,
   "id": "78901cfd-04b4-4e77-9b08-62990a349b9b",
   "metadata": {},
   "outputs": [],
   "source": [
    "X_train_alt=array_of_img_train\n",
    "y_train_alt=list_of_labels_train\n",
    "\n",
    "X_test_alt=array_of_img_test\n",
    "y_test_alt=list_of_labels_test\n",
    "\n",
    "X_train_alt = X_train_alt.reshape(X_train_alt.shape[0], 128, 128, 3)\n",
    "X_test_alt = X_test_alt.reshape(X_test_alt.shape[0], 128, 128, 3)\n",
    "y_train_alt = utils.to_categorical(y_train_alt,13)\n",
    "y_test_alt = utils.to_categorical(y_test_alt,13)\n"
   ]
  },
  {
   "cell_type": "markdown",
   "id": "ae8c33fc-ae3a-47a4-97c1-8347393595fb",
   "metadata": {},
   "source": [
    "### Run Preliminary Models "
   ]
  },
  {
   "cell_type": "code",
   "execution_count": 8,
   "id": "3e966c4a-04ee-4896-a9d0-054b6f2fe377",
   "metadata": {},
   "outputs": [
    {
     "name": "stdout",
     "output_type": "stream",
     "text": [
      "Epoch 1/50\n",
      "24/24 [==============================] - 26s 898ms/step - loss: 14.5868 - accuracy: 0.4840 - val_loss: 9.6084 - val_accuracy: 0.0369\n",
      "Epoch 2/50\n",
      "24/24 [==============================] - 20s 853ms/step - loss: 5.2509 - accuracy: 0.4975 - val_loss: 1.8714 - val_accuracy: 0.6707\n",
      "Epoch 3/50\n",
      "24/24 [==============================] - 18s 775ms/step - loss: 1.5099 - accuracy: 0.6456 - val_loss: 1.2998 - val_accuracy: 0.6605\n",
      "Epoch 4/50\n",
      "24/24 [==============================] - 21s 872ms/step - loss: 1.2976 - accuracy: 0.6562 - val_loss: 1.3007 - val_accuracy: 0.6745\n",
      "Epoch 5/50\n",
      "24/24 [==============================] - 19s 798ms/step - loss: 1.3044 - accuracy: 0.6627 - val_loss: 1.2355 - val_accuracy: 0.6752\n",
      "Epoch 6/50\n",
      "24/24 [==============================] - 18s 750ms/step - loss: 1.2533 - accuracy: 0.6660 - val_loss: 1.2444 - val_accuracy: 0.6766\n",
      "Epoch 7/50\n",
      "24/24 [==============================] - 18s 754ms/step - loss: 1.2606 - accuracy: 0.6605 - val_loss: 1.2221 - val_accuracy: 0.6800\n",
      "Epoch 8/50\n",
      "24/24 [==============================] - 17s 699ms/step - loss: 1.2551 - accuracy: 0.6647 - val_loss: 1.2501 - val_accuracy: 0.6783\n",
      "Epoch 9/50\n",
      "24/24 [==============================] - 18s 746ms/step - loss: 1.2520 - accuracy: 0.6672 - val_loss: 1.2218 - val_accuracy: 0.6809\n",
      "Epoch 10/50\n",
      "24/24 [==============================] - 17s 706ms/step - loss: 1.2266 - accuracy: 0.6693 - val_loss: 1.1894 - val_accuracy: 0.6804\n",
      "Epoch 11/50\n",
      "24/24 [==============================] - 17s 690ms/step - loss: 1.2351 - accuracy: 0.6698 - val_loss: 1.2694 - val_accuracy: 0.6769\n",
      "Epoch 12/50\n",
      "24/24 [==============================] - 17s 722ms/step - loss: 1.2222 - accuracy: 0.6688 - val_loss: 1.2386 - val_accuracy: 0.6769\n",
      "Epoch 13/50\n",
      "24/24 [==============================] - 17s 699ms/step - loss: 1.2321 - accuracy: 0.6690 - val_loss: 1.1863 - val_accuracy: 0.6805\n",
      "Epoch 14/50\n",
      "24/24 [==============================] - 18s 756ms/step - loss: 1.1965 - accuracy: 0.6753 - val_loss: 1.2082 - val_accuracy: 0.6821\n",
      "Epoch 15/50\n",
      "24/24 [==============================] - 17s 708ms/step - loss: 1.1961 - accuracy: 0.6723 - val_loss: 1.1831 - val_accuracy: 0.6807\n",
      "Epoch 16/50\n",
      "24/24 [==============================] - 17s 727ms/step - loss: 1.1910 - accuracy: 0.6755 - val_loss: 1.1716 - val_accuracy: 0.6829\n",
      "Epoch 17/50\n",
      "24/24 [==============================] - 17s 714ms/step - loss: 1.1996 - accuracy: 0.6723 - val_loss: 1.1821 - val_accuracy: 0.6821\n",
      "Epoch 18/50\n",
      "24/24 [==============================] - 17s 692ms/step - loss: 1.2052 - accuracy: 0.6715 - val_loss: 1.1918 - val_accuracy: 0.6719\n",
      "Epoch 19/50\n",
      "24/24 [==============================] - 17s 728ms/step - loss: 1.1992 - accuracy: 0.6712 - val_loss: 1.1890 - val_accuracy: 0.6786\n",
      "Epoch 20/50\n",
      "24/24 [==============================] - 17s 698ms/step - loss: 1.1985 - accuracy: 0.6710 - val_loss: 1.2070 - val_accuracy: 0.6722\n",
      "Epoch 21/50\n",
      "24/24 [==============================] - 17s 729ms/step - loss: 1.1946 - accuracy: 0.6698 - val_loss: 1.1813 - val_accuracy: 0.6810\n",
      "Epoch 22/50\n",
      "24/24 [==============================] - 15s 647ms/step - loss: 1.1903 - accuracy: 0.6692 - val_loss: 1.1760 - val_accuracy: 0.6814\n",
      "Epoch 23/50\n",
      "24/24 [==============================] - 16s 676ms/step - loss: 1.1758 - accuracy: 0.6732 - val_loss: 1.1641 - val_accuracy: 0.6824\n",
      "Epoch 24/50\n",
      "24/24 [==============================] - 17s 709ms/step - loss: 1.1830 - accuracy: 0.6722 - val_loss: 1.1616 - val_accuracy: 0.6819\n",
      "Epoch 25/50\n",
      "24/24 [==============================] - 16s 658ms/step - loss: 1.1692 - accuracy: 0.6725 - val_loss: 1.1698 - val_accuracy: 0.6805\n",
      "Epoch 26/50\n",
      "24/24 [==============================] - 16s 689ms/step - loss: 1.1748 - accuracy: 0.6743 - val_loss: 1.2694 - val_accuracy: 0.6546\n",
      "Epoch 27/50\n",
      "24/24 [==============================] - 14s 593ms/step - loss: 1.2035 - accuracy: 0.6717 - val_loss: 1.1606 - val_accuracy: 0.6805\n",
      "Epoch 28/50\n",
      "24/24 [==============================] - 16s 665ms/step - loss: 1.1749 - accuracy: 0.6750 - val_loss: 1.2546 - val_accuracy: 0.6172\n",
      "Epoch 29/50\n",
      "24/24 [==============================] - 16s 671ms/step - loss: 1.1865 - accuracy: 0.6725 - val_loss: 1.1757 - val_accuracy: 0.6816\n",
      "Epoch 30/50\n",
      "24/24 [==============================] - 16s 662ms/step - loss: 1.1681 - accuracy: 0.6755 - val_loss: 1.1942 - val_accuracy: 0.6795\n",
      "Epoch 31/50\n",
      "24/24 [==============================] - 16s 653ms/step - loss: 1.1724 - accuracy: 0.6772 - val_loss: 1.1665 - val_accuracy: 0.6852\n",
      "Epoch 32/50\n",
      "24/24 [==============================] - 16s 664ms/step - loss: 1.1638 - accuracy: 0.6785 - val_loss: 1.1629 - val_accuracy: 0.6805\n",
      "Epoch 33/50\n",
      "24/24 [==============================] - 16s 686ms/step - loss: 1.1606 - accuracy: 0.6757 - val_loss: 1.2066 - val_accuracy: 0.6697\n",
      "Epoch 34/50\n",
      "24/24 [==============================] - 16s 679ms/step - loss: 1.1562 - accuracy: 0.6792 - val_loss: 1.1505 - val_accuracy: 0.6833\n",
      "Epoch 35/50\n",
      "24/24 [==============================] - 17s 705ms/step - loss: 1.1628 - accuracy: 0.6782 - val_loss: 1.1455 - val_accuracy: 0.6866\n",
      "Epoch 36/50\n",
      "24/24 [==============================] - 16s 683ms/step - loss: 1.1597 - accuracy: 0.6793 - val_loss: 1.1467 - val_accuracy: 0.6861\n",
      "Epoch 37/50\n",
      "24/24 [==============================] - 16s 660ms/step - loss: 1.1475 - accuracy: 0.6783 - val_loss: 1.1341 - val_accuracy: 0.6883\n",
      "Epoch 38/50\n",
      "24/24 [==============================] - 16s 670ms/step - loss: 1.1521 - accuracy: 0.6788 - val_loss: 1.1565 - val_accuracy: 0.6861\n",
      "Epoch 39/50\n",
      "24/24 [==============================] - 16s 666ms/step - loss: 1.1545 - accuracy: 0.6818 - val_loss: 1.1447 - val_accuracy: 0.6859\n",
      "Epoch 40/50\n",
      "24/24 [==============================] - 17s 705ms/step - loss: 1.1623 - accuracy: 0.6773 - val_loss: 1.1998 - val_accuracy: 0.6828\n",
      "Epoch 41/50\n",
      "24/24 [==============================] - 16s 687ms/step - loss: 1.1662 - accuracy: 0.6785 - val_loss: 1.1947 - val_accuracy: 0.6812\n",
      "Epoch 42/50\n",
      "24/24 [==============================] - 16s 669ms/step - loss: 1.1424 - accuracy: 0.6780 - val_loss: 1.1456 - val_accuracy: 0.6843\n",
      "Epoch 43/50\n",
      "24/24 [==============================] - 16s 686ms/step - loss: 1.1303 - accuracy: 0.6810 - val_loss: 1.1333 - val_accuracy: 0.6833\n",
      "Epoch 44/50\n",
      "24/24 [==============================] - 17s 693ms/step - loss: 1.1333 - accuracy: 0.6820 - val_loss: 1.1437 - val_accuracy: 0.6864\n",
      "Epoch 45/50\n",
      "24/24 [==============================] - 16s 690ms/step - loss: 1.1304 - accuracy: 0.6828 - val_loss: 1.1353 - val_accuracy: 0.6847\n",
      "Epoch 46/50\n",
      "24/24 [==============================] - 16s 678ms/step - loss: 1.1337 - accuracy: 0.6822 - val_loss: 1.1300 - val_accuracy: 0.6873\n",
      "Epoch 47/50\n",
      "24/24 [==============================] - 16s 665ms/step - loss: 1.1368 - accuracy: 0.6802 - val_loss: 1.1598 - val_accuracy: 0.6859\n",
      "Epoch 48/50\n",
      "24/24 [==============================] - 17s 697ms/step - loss: 1.1333 - accuracy: 0.6808 - val_loss: 1.1365 - val_accuracy: 0.6847\n",
      "Epoch 49/50\n",
      "24/24 [==============================] - 16s 669ms/step - loss: 1.1314 - accuracy: 0.6812 - val_loss: 1.1312 - val_accuracy: 0.6895\n",
      "Epoch 50/50\n",
      "24/24 [==============================] - 16s 672ms/step - loss: 1.1234 - accuracy: 0.6859 - val_loss: 1.1450 - val_accuracy: 0.6880\n"
     ]
    }
   ],
   "source": [
    "model_alt = Sequential([\n",
    "  layers.RandomFlip(\"horizontal_and_vertical\"),\n",
    "  layers.RandomRotation(0.2),\n",
    "])\n",
    "model_alt.add(Flatten(input_shape = (128, 128, 3)))\n",
    "model_alt.add(Dense(512, activation = 'relu'))\n",
    "model_alt.add(Dense(512, activation = 'relu'))\n",
    "model_alt.add(Dense(256, activation = 'relu'))\n",
    "\n",
    "model_alt.add(Dense(13, activation = 'softmax'))\n",
    "# Compile model.\n",
    "model_alt.compile(loss='categorical_crossentropy',\n",
    "              optimizer='adam',\n",
    "              metrics=['accuracy'])\n",
    "history_alt  = model_alt.fit(X_train_alt,\n",
    "                    y_train_alt, \n",
    "                    batch_size=256,\n",
    "                    validation_data=(X_test_alt, y_test_alt),\n",
    "                    epochs=50,\n",
    "                    verbose=1)"
   ]
  },
  {
   "cell_type": "code",
   "execution_count": 41,
   "id": "3c13d554-2a4a-41c4-bf96-af1a88ab3dca",
   "metadata": {},
   "outputs": [
    {
     "name": "stdout",
     "output_type": "stream",
     "text": [
      "Model: \"sequential_3\"\n",
      "_________________________________________________________________\n",
      " Layer (type)                Output Shape              Param #   \n",
      "=================================================================\n",
      " random_flip_2 (RandomFlip)  (None, 128, 128, 3)       0         \n",
      "                                                                 \n",
      " random_rotation_2 (RandomRo  (None, 128, 128, 3)      0         \n",
      " tation)                                                         \n",
      "                                                                 \n",
      " flatten_1 (Flatten)         (None, 49152)             0         \n",
      "                                                                 \n",
      " dense_4 (Dense)             (None, 512)               25166336  \n",
      "                                                                 \n",
      " dense_5 (Dense)             (None, 512)               262656    \n",
      "                                                                 \n",
      " dense_6 (Dense)             (None, 256)               131328    \n",
      "                                                                 \n",
      " dense_7 (Dense)             (None, 201)               51657     \n",
      "                                                                 \n",
      "=================================================================\n",
      "Total params: 25,611,977\n",
      "Trainable params: 25,611,977\n",
      "Non-trainable params: 0\n",
      "_________________________________________________________________\n"
     ]
    }
   ],
   "source": [
    "model_alt.summary()"
   ]
  },
  {
   "cell_type": "code",
   "execution_count": 13,
   "id": "d75f63b2-2f43-460a-8ed6-e05f87e5806f",
   "metadata": {},
   "outputs": [
    {
     "data": {
      "image/png": "[encoded data removed]",
      "text/plain": [
       "<Figure size 864x576 with 1 Axes>"
      ]
     },
     "metadata": {
      "needs_background": "light"
     },
     "output_type": "display_data"
    }
   ],
   "source": [
    "# Check out our train loss and test loss over epochs.\n",
    "train_loss = history_alt.history['loss']\n",
    "test_loss = history_alt.history['val_loss']\n",
    "\n",
    "# Set figure size.\n",
    "plt.figure(figsize=(12, 8))\n",
    "\n",
    "# Generate line plot of training, testing loss over epochs.\n",
    "plt.plot(train_loss, label='Training Loss', color='purple')\n",
    "plt.plot(test_loss, label='Testing Loss', color='orange')\n",
    "\n",
    "# Set title\n",
    "plt.title('Training and Testing Loss by Epoch', fontsize = 25)\n",
    "plt.xlabel('Epoch', fontsize = 18)\n",
    "plt.ylabel('Categorical Crossentropy', fontsize = 18)\n",
    "\n",
    "plt.legend(fontsize = 18);"
   ]
  },
  {
   "cell_type": "code",
   "execution_count": 9,
   "id": "cc3a5e17-f977-4554-856d-b4106d2b77be",
   "metadata": {},
   "outputs": [
    {
     "name": "stdout",
     "output_type": "stream",
     "text": [
      "Epoch 1/50\n",
      "24/24 [==============================] - 57s 2s/step - loss: 7.0618 - accuracy: 0.4658 - val_loss: 2.5195 - val_accuracy: 0.6755\n",
      "Epoch 2/50\n",
      "24/24 [==============================] - 54s 2s/step - loss: 1.7030 - accuracy: 0.6650 - val_loss: 1.4561 - val_accuracy: 0.6755\n",
      "Epoch 3/50\n",
      "24/24 [==============================] - 55s 2s/step - loss: 1.4437 - accuracy: 0.6650 - val_loss: 1.3825 - val_accuracy: 0.6755\n",
      "Epoch 4/50\n",
      "24/24 [==============================] - 50s 2s/step - loss: 1.3733 - accuracy: 0.6650 - val_loss: 1.3374 - val_accuracy: 0.6755\n",
      "Epoch 5/50\n",
      "24/24 [==============================] - 52s 2s/step - loss: 1.3326 - accuracy: 0.6650 - val_loss: 1.2901 - val_accuracy: 0.6755\n",
      "Epoch 6/50\n",
      "24/24 [==============================] - 49s 2s/step - loss: 1.3079 - accuracy: 0.6650 - val_loss: 1.2688 - val_accuracy: 0.6752\n",
      "Epoch 7/50\n",
      "24/24 [==============================] - 48s 2s/step - loss: 1.2908 - accuracy: 0.6652 - val_loss: 1.2484 - val_accuracy: 0.6752\n",
      "Epoch 8/50\n",
      "24/24 [==============================] - 54s 2s/step - loss: 1.2778 - accuracy: 0.6652 - val_loss: 1.2394 - val_accuracy: 0.6752\n",
      "Epoch 9/50\n",
      "24/24 [==============================] - 49s 2s/step - loss: 1.2592 - accuracy: 0.6648 - val_loss: 1.2395 - val_accuracy: 0.6755\n",
      "Epoch 10/50\n",
      "24/24 [==============================] - 49s 2s/step - loss: 1.2447 - accuracy: 0.6648 - val_loss: 1.2164 - val_accuracy: 0.6752\n",
      "Epoch 11/50\n",
      "24/24 [==============================] - 47s 2s/step - loss: 1.2333 - accuracy: 0.6650 - val_loss: 1.2158 - val_accuracy: 0.6760\n",
      "Epoch 12/50\n",
      "24/24 [==============================] - 47s 2s/step - loss: 1.2117 - accuracy: 0.6668 - val_loss: 1.1971 - val_accuracy: 0.6762\n",
      "Epoch 13/50\n",
      "24/24 [==============================] - 48s 2s/step - loss: 1.1965 - accuracy: 0.6675 - val_loss: 1.1977 - val_accuracy: 0.6762\n",
      "Epoch 14/50\n",
      "24/24 [==============================] - 47s 2s/step - loss: 1.1773 - accuracy: 0.6678 - val_loss: 1.2019 - val_accuracy: 0.6764\n",
      "Epoch 15/50\n",
      "24/24 [==============================] - 49s 2s/step - loss: 1.1590 - accuracy: 0.6698 - val_loss: 1.1830 - val_accuracy: 0.6771\n",
      "Epoch 16/50\n",
      "24/24 [==============================] - 47s 2s/step - loss: 1.1423 - accuracy: 0.6733 - val_loss: 1.1701 - val_accuracy: 0.6802\n",
      "Epoch 17/50\n",
      "24/24 [==============================] - 53s 2s/step - loss: 1.1229 - accuracy: 0.6763 - val_loss: 1.1989 - val_accuracy: 0.6707\n",
      "Epoch 18/50\n",
      "24/24 [==============================] - 50s 2s/step - loss: 1.1299 - accuracy: 0.6750 - val_loss: 1.1528 - val_accuracy: 0.6855\n",
      "Epoch 19/50\n",
      "24/24 [==============================] - 49s 2s/step - loss: 1.1045 - accuracy: 0.6823 - val_loss: 1.1481 - val_accuracy: 0.6862\n",
      "Epoch 20/50\n",
      "24/24 [==============================] - 47s 2s/step - loss: 1.0880 - accuracy: 0.6872 - val_loss: 1.1416 - val_accuracy: 0.6909\n",
      "Epoch 21/50\n",
      "24/24 [==============================] - 49s 2s/step - loss: 1.0784 - accuracy: 0.6887 - val_loss: 1.1210 - val_accuracy: 0.6947\n",
      "Epoch 22/50\n",
      "24/24 [==============================] - 48s 2s/step - loss: 1.0621 - accuracy: 0.6940 - val_loss: 1.1102 - val_accuracy: 0.6924\n",
      "Epoch 23/50\n",
      "24/24 [==============================] - 48s 2s/step - loss: 1.0649 - accuracy: 0.6944 - val_loss: 1.1005 - val_accuracy: 0.6976\n",
      "Epoch 24/50\n",
      "24/24 [==============================] - 48s 2s/step - loss: 1.0454 - accuracy: 0.6949 - val_loss: 1.1096 - val_accuracy: 0.6985\n",
      "Epoch 25/50\n",
      "24/24 [==============================] - 48s 2s/step - loss: 1.0427 - accuracy: 0.6969 - val_loss: 1.0939 - val_accuracy: 0.7009\n",
      "Epoch 26/50\n",
      "24/24 [==============================] - 49s 2s/step - loss: 1.0260 - accuracy: 0.6999 - val_loss: 1.1306 - val_accuracy: 0.6938\n",
      "Epoch 27/50\n",
      "24/24 [==============================] - 49s 2s/step - loss: 1.0330 - accuracy: 0.7005 - val_loss: 1.0837 - val_accuracy: 0.7016\n",
      "Epoch 28/50\n",
      "24/24 [==============================] - 49s 2s/step - loss: 1.0136 - accuracy: 0.7015 - val_loss: 1.0690 - val_accuracy: 0.7061\n",
      "Epoch 29/50\n",
      "24/24 [==============================] - 48s 2s/step - loss: 0.9977 - accuracy: 0.7024 - val_loss: 1.0737 - val_accuracy: 0.7023\n",
      "Epoch 30/50\n",
      "24/24 [==============================] - 47s 2s/step - loss: 0.9892 - accuracy: 0.7084 - val_loss: 1.1005 - val_accuracy: 0.6954\n",
      "Epoch 31/50\n",
      "24/24 [==============================] - 50s 2s/step - loss: 1.0004 - accuracy: 0.7019 - val_loss: 1.0641 - val_accuracy: 0.7056\n",
      "Epoch 32/50\n",
      "24/24 [==============================] - 55s 2s/step - loss: 0.9824 - accuracy: 0.7060 - val_loss: 1.0618 - val_accuracy: 0.7062\n",
      "Epoch 33/50\n",
      "24/24 [==============================] - 52s 2s/step - loss: 0.9907 - accuracy: 0.7089 - val_loss: 1.0636 - val_accuracy: 0.7047\n",
      "Epoch 34/50\n",
      "24/24 [==============================] - 51s 2s/step - loss: 0.9812 - accuracy: 0.7077 - val_loss: 1.1015 - val_accuracy: 0.6968\n",
      "Epoch 35/50\n",
      "24/24 [==============================] - 50s 2s/step - loss: 0.9770 - accuracy: 0.7032 - val_loss: 1.0714 - val_accuracy: 0.7006\n",
      "Epoch 36/50\n",
      "24/24 [==============================] - 48s 2s/step - loss: 0.9764 - accuracy: 0.7085 - val_loss: 1.1257 - val_accuracy: 0.6859\n",
      "Epoch 37/50\n",
      "24/24 [==============================] - 47s 2s/step - loss: 0.9555 - accuracy: 0.7149 - val_loss: 1.0802 - val_accuracy: 0.6983\n",
      "Epoch 38/50\n",
      "24/24 [==============================] - 47s 2s/step - loss: 0.9505 - accuracy: 0.7095 - val_loss: 1.0607 - val_accuracy: 0.7050\n",
      "Epoch 39/50\n",
      "24/24 [==============================] - 47s 2s/step - loss: 0.9386 - accuracy: 0.7132 - val_loss: 1.0560 - val_accuracy: 0.7052\n",
      "Epoch 40/50\n",
      "24/24 [==============================] - 47s 2s/step - loss: 0.9535 - accuracy: 0.7135 - val_loss: 1.0922 - val_accuracy: 0.6992\n",
      "Epoch 41/50\n",
      "24/24 [==============================] - 48s 2s/step - loss: 0.9380 - accuracy: 0.7164 - val_loss: 1.0530 - val_accuracy: 0.7100\n",
      "Epoch 42/50\n",
      "24/24 [==============================] - 47s 2s/step - loss: 0.9377 - accuracy: 0.7176 - val_loss: 1.0720 - val_accuracy: 0.7069\n",
      "Epoch 43/50\n",
      "24/24 [==============================] - 47s 2s/step - loss: 0.9314 - accuracy: 0.7124 - val_loss: 1.0607 - val_accuracy: 0.7054\n",
      "Epoch 44/50\n",
      "24/24 [==============================] - 46s 2s/step - loss: 0.9247 - accuracy: 0.7209 - val_loss: 1.0647 - val_accuracy: 0.7040\n",
      "Epoch 45/50\n",
      "24/24 [==============================] - 47s 2s/step - loss: 0.9165 - accuracy: 0.7189 - val_loss: 1.0855 - val_accuracy: 0.7009\n",
      "Epoch 46/50\n",
      "24/24 [==============================] - 47s 2s/step - loss: 0.9198 - accuracy: 0.7181 - val_loss: 1.0880 - val_accuracy: 0.7080\n",
      "Epoch 47/50\n",
      "24/24 [==============================] - 46s 2s/step - loss: 0.8967 - accuracy: 0.7247 - val_loss: 1.0790 - val_accuracy: 0.6938\n",
      "Epoch 48/50\n",
      "24/24 [==============================] - 46s 2s/step - loss: 0.9097 - accuracy: 0.7221 - val_loss: 1.0752 - val_accuracy: 0.7019\n",
      "Epoch 49/50\n",
      "24/24 [==============================] - 47s 2s/step - loss: 0.9098 - accuracy: 0.7202 - val_loss: 1.0810 - val_accuracy: 0.6999\n",
      "Epoch 50/50\n",
      "24/24 [==============================] - 47s 2s/step - loss: 0.8793 - accuracy: 0.7292 - val_loss: 1.0666 - val_accuracy: 0.7042\n"
     ]
    }
   ],
   "source": [
    "model_alt2 = Sequential([\n",
    "  layers.RandomFlip(\"horizontal_and_vertical\"),\n",
    "  layers.RandomRotation(0.2),\n",
    "])\n",
    "model_alt2.add(Conv2D(filters = 6, # number of filters\n",
    "                     kernel_size = (3, 3), # height/width of filter\n",
    "                     activation = 'relu', # activation function\n",
    "                     input_shape = (128, 128, 3)# shape of input (image)\n",
    "                     ))  \n",
    "model_alt2.add(Flatten(input_shape = (128, 128, 3)))\n",
    "model_alt2.add(Dense(512, activation = 'relu'))\n",
    "model_alt2.add(Dense(512, activation = 'relu'))\n",
    "model_alt2.add(Dense(256, activation = 'relu'))\n",
    "\n",
    "model_alt2.add(Dense(13, activation = 'softmax'))\n",
    "# Compile model.\n",
    "model_alt2.compile(loss='categorical_crossentropy',\n",
    "              optimizer='adam',\n",
    "              metrics=['accuracy'])\n",
    "history_alt2  = model_alt2.fit(X_train_alt,\n",
    "                    y_train_alt, \n",
    "                    batch_size=256,\n",
    "                    validation_data=(X_test_alt, y_test_alt),\n",
    "                    epochs=50,\n",
    "                    verbose=1)"
   ]
  },
  {
   "cell_type": "code",
   "execution_count": 15,
   "id": "eb19e5c1-183c-4b7d-b406-902092586065",
   "metadata": {},
   "outputs": [
    {
     "data": {
      "image/png": "[encoded data removed]",
      "text/plain": [
       "<Figure size 864x576 with 1 Axes>"
      ]
     },
     "metadata": {
      "needs_background": "light"
     },
     "output_type": "display_data"
    }
   ],
   "source": [
    "# Check out our train loss and test loss over epochs.\n",
    "train_loss = history_alt2.history['loss']\n",
    "test_loss = history_alt2.history['val_loss']\n",
    "\n",
    "# Set figure size.\n",
    "plt.figure(figsize=(12, 8))\n",
    "\n",
    "# Generate line plot of training, testing loss over epochs.\n",
    "plt.plot(train_loss, label='Training Loss', color='purple')\n",
    "plt.plot(test_loss, label='Testing Loss', color='orange')\n",
    "\n",
    "# Set title\n",
    "plt.title('Training and Testing Loss by Epoch', fontsize = 25)\n",
    "plt.xlabel('Epoch', fontsize = 18)\n",
    "plt.ylabel('Categorical Crossentropy', fontsize = 18)\n",
    "\n",
    "plt.legend(fontsize = 18);"
   ]
  },
  {
   "cell_type": "code",
   "execution_count": 16,
   "id": "58f0c3ed-685c-4a5a-bcb8-e1cb81339a86",
   "metadata": {},
   "outputs": [
    {
     "name": "stdout",
     "output_type": "stream",
     "text": [
      "Epoch 1/30\n",
      "24/24 [==============================] - 41s 2s/step - loss: 1.4555 - accuracy: 0.6400 - val_loss: 1.3088 - val_accuracy: 0.6755\n",
      "Epoch 2/30\n",
      "24/24 [==============================] - 45s 2s/step - loss: 1.3033 - accuracy: 0.6650 - val_loss: 1.2555 - val_accuracy: 0.6755\n",
      "Epoch 3/30\n",
      "24/24 [==============================] - 44s 2s/step - loss: 1.2507 - accuracy: 0.6650 - val_loss: 1.2215 - val_accuracy: 0.6755\n",
      "Epoch 4/30\n",
      "24/24 [==============================] - 43s 2s/step - loss: 1.2080 - accuracy: 0.6745 - val_loss: 1.1744 - val_accuracy: 0.6899\n",
      "Epoch 5/30\n",
      "24/24 [==============================] - 43s 2s/step - loss: 1.1766 - accuracy: 0.6849 - val_loss: 1.1514 - val_accuracy: 0.6880\n",
      "Epoch 6/30\n",
      "24/24 [==============================] - 38s 2s/step - loss: 1.1619 - accuracy: 0.6818 - val_loss: 1.1180 - val_accuracy: 0.6978\n",
      "Epoch 7/30\n",
      "24/24 [==============================] - 38s 2s/step - loss: 1.1320 - accuracy: 0.6915 - val_loss: 1.1221 - val_accuracy: 0.6888\n",
      "Epoch 8/30\n",
      "24/24 [==============================] - 43s 2s/step - loss: 1.1367 - accuracy: 0.6865 - val_loss: 1.1005 - val_accuracy: 0.7021\n",
      "Epoch 9/30\n",
      "24/24 [==============================] - 42s 2s/step - loss: 1.1035 - accuracy: 0.6922 - val_loss: 1.0840 - val_accuracy: 0.7028\n",
      "Epoch 10/30\n",
      "24/24 [==============================] - 38s 2s/step - loss: 1.0898 - accuracy: 0.6942 - val_loss: 1.0958 - val_accuracy: 0.7025\n",
      "Epoch 11/30\n",
      "24/24 [==============================] - 42s 2s/step - loss: 1.1183 - accuracy: 0.6877 - val_loss: 1.1115 - val_accuracy: 0.6914\n",
      "Epoch 12/30\n",
      "24/24 [==============================] - 47s 2s/step - loss: 1.0733 - accuracy: 0.6982 - val_loss: 1.0685 - val_accuracy: 0.7049\n",
      "Epoch 13/30\n",
      "24/24 [==============================] - 46s 2s/step - loss: 1.0683 - accuracy: 0.6974 - val_loss: 1.0660 - val_accuracy: 0.7019\n",
      "Epoch 14/30\n",
      "24/24 [==============================] - 40s 2s/step - loss: 1.0579 - accuracy: 0.7005 - val_loss: 1.0531 - val_accuracy: 0.7050\n",
      "Epoch 15/30\n",
      "24/24 [==============================] - 42s 2s/step - loss: 1.0604 - accuracy: 0.7010 - val_loss: 1.0718 - val_accuracy: 0.7076\n",
      "Epoch 16/30\n",
      "24/24 [==============================] - 39s 2s/step - loss: 1.0516 - accuracy: 0.6984 - val_loss: 1.0550 - val_accuracy: 0.7049\n",
      "Epoch 17/30\n",
      "24/24 [==============================] - 35s 1s/step - loss: 1.0397 - accuracy: 0.7059 - val_loss: 1.0605 - val_accuracy: 0.7043\n",
      "Epoch 18/30\n",
      "24/24 [==============================] - 37s 2s/step - loss: 1.0423 - accuracy: 0.7010 - val_loss: 1.0892 - val_accuracy: 0.6933\n",
      "Epoch 19/30\n",
      "24/24 [==============================] - 41s 2s/step - loss: 1.0212 - accuracy: 0.7050 - val_loss: 1.0413 - val_accuracy: 0.7163\n",
      "Epoch 20/30\n",
      "24/24 [==============================] - 43s 2s/step - loss: 1.0166 - accuracy: 0.7074 - val_loss: 1.1034 - val_accuracy: 0.7021\n",
      "Epoch 21/30\n",
      "24/24 [==============================] - 38s 2s/step - loss: 1.0157 - accuracy: 0.7059 - val_loss: 1.0528 - val_accuracy: 0.7135\n",
      "Epoch 22/30\n",
      "24/24 [==============================] - 38s 2s/step - loss: 1.0125 - accuracy: 0.7057 - val_loss: 1.0696 - val_accuracy: 0.6992\n",
      "Epoch 23/30\n",
      "24/24 [==============================] - 42s 2s/step - loss: 1.0032 - accuracy: 0.7075 - val_loss: 1.0238 - val_accuracy: 0.7147\n",
      "Epoch 24/30\n",
      "24/24 [==============================] - 42s 2s/step - loss: 0.9887 - accuracy: 0.7150 - val_loss: 1.0393 - val_accuracy: 0.7109\n",
      "Epoch 25/30\n",
      "24/24 [==============================] - 39s 2s/step - loss: 1.0024 - accuracy: 0.7107 - val_loss: 1.0329 - val_accuracy: 0.7159\n",
      "Epoch 26/30\n",
      "24/24 [==============================] - 41s 2s/step - loss: 0.9879 - accuracy: 0.7137 - val_loss: 1.0130 - val_accuracy: 0.7144\n",
      "Epoch 27/30\n",
      "24/24 [==============================] - 41s 2s/step - loss: 0.9745 - accuracy: 0.7150 - val_loss: 1.0174 - val_accuracy: 0.7138\n",
      "Epoch 28/30\n",
      "24/24 [==============================] - 41s 2s/step - loss: 0.9633 - accuracy: 0.7159 - val_loss: 1.0098 - val_accuracy: 0.7135\n",
      "Epoch 29/30\n",
      "24/24 [==============================] - 42s 2s/step - loss: 0.9581 - accuracy: 0.7171 - val_loss: 1.0052 - val_accuracy: 0.7183\n",
      "Epoch 30/30\n",
      "24/24 [==============================] - 46s 2s/step - loss: 0.9503 - accuracy: 0.7184 - val_loss: 1.0221 - val_accuracy: 0.7166\n"
     ]
    }
   ],
   "source": [
    "model_alt5 = Sequential([\n",
    "  layers.RandomFlip(\"horizontal_and_vertical\"),\n",
    "  layers.RandomRotation(0.2),\n",
    "])\n",
    "model_alt5.add(Conv2D(filters = 6, # number of filters\n",
    "                     kernel_size = (3, 3), # height/width of filter\n",
    "                     activation = 'relu', # activation function\n",
    "                     input_shape = (128, 128, 3)# shape of input (image)\n",
    "                     ))  \n",
    "model_alt5.add(MaxPooling2D(pool_size = (2, 2))) # dimensions of region of pooling\n",
    "model_alt5.add(Conv2D(16,\n",
    "                     kernel_size = (3, 3),\n",
    "                     activation = 'relu'))\n",
    "model_alt5.add(MaxPooling2D(pool_size=(2, 2)))\n",
    "model_alt5.add(Flatten(input_shape = (128, 128, 3)))\n",
    "model_alt5.add(Dense(200, activation = 'relu'))\n",
    "model_alt5.add(Dense(128, activation = 'relu'))\n",
    "model_alt5.add(Dense(128, activation = 'relu'))\n",
    "model_alt5.add(Dense(64, activation = 'relu'))\n",
    "model_alt5.add(Dense(48, activation = 'relu'))\n",
    "\n",
    "model_alt5.add(Dense(13, activation = 'softmax'))\n",
    "# Compile model.\n",
    "model_alt5.compile(loss='categorical_crossentropy',\n",
    "              optimizer='adam',\n",
    "              metrics=['accuracy'])\n",
    "\n",
    "history_alt5  = model_alt5.fit(X_train_alt,\n",
    "                    y_train_alt, \n",
    "                    batch_size=256,\n",
    "                    validation_data=(X_test_alt, y_test_alt),\n",
    "                    epochs=30,\n",
    "                    verbose=1)"
   ]
  },
  {
   "cell_type": "markdown",
   "id": "65066cf9-6b94-4d9c-9a2e-0ffed4a8a654",
   "metadata": {},
   "source": [
    "## Transfer Learning"
   ]
  },
  {
   "cell_type": "code",
   "execution_count": 11,
   "id": "2f5b6e1c-b28b-4161-804a-d45bbe8822d5",
   "metadata": {},
   "outputs": [],
   "source": [
    "# Create the base model from the pre-trained model MobileNet V2\n",
    "IMG_SIZE = (128, 128)\n",
    "IMG_SHAPE = IMG_SIZE + (3,)\n",
    "base_model = tf.keras.applications.MobileNetV2(input_shape=IMG_SHAPE,\n",
    "                                               include_top=False,\n",
    "                                               weights='imagenet')\n",
    "base_model.trainable = False\n",
    "#base_model.summary()"
   ]
  },
  {
   "cell_type": "code",
   "execution_count": 13,
   "id": "b6b6f493-93ca-46e9-b859-7470bd6473c0",
   "metadata": {},
   "outputs": [
    {
     "name": "stdout",
     "output_type": "stream",
     "text": [
      "Epoch 1/30\n",
      "24/24 [==============================] - 50s 2s/step - loss: 1.1294 - accuracy: 0.6837 - val_loss: 0.6845 - val_accuracy: 0.7844\n",
      "Epoch 2/30\n",
      "24/24 [==============================] - 54s 2s/step - loss: 0.6198 - accuracy: 0.8011 - val_loss: 0.5672 - val_accuracy: 0.8283\n",
      "Epoch 3/30\n",
      "24/24 [==============================] - 58s 2s/step - loss: 0.4387 - accuracy: 0.8605 - val_loss: 0.4994 - val_accuracy: 0.8436\n",
      "Epoch 4/30\n",
      "24/24 [==============================] - 68s 3s/step - loss: 0.3074 - accuracy: 0.9017 - val_loss: 0.4855 - val_accuracy: 0.8573\n",
      "Epoch 5/30\n",
      "24/24 [==============================] - 68s 3s/step - loss: 0.2412 - accuracy: 0.9199 - val_loss: 0.5026 - val_accuracy: 0.8485\n",
      "Epoch 6/30\n",
      "24/24 [==============================] - 67s 3s/step - loss: 0.1976 - accuracy: 0.9343 - val_loss: 0.4907 - val_accuracy: 0.8536\n",
      "Epoch 7/30\n",
      "24/24 [==============================] - 67s 3s/step - loss: 0.1582 - accuracy: 0.9511 - val_loss: 0.5430 - val_accuracy: 0.8671\n",
      "Epoch 8/30\n",
      "24/24 [==============================] - 68s 3s/step - loss: 0.1157 - accuracy: 0.9620 - val_loss: 0.5615 - val_accuracy: 0.8733\n",
      "Epoch 9/30\n",
      "24/24 [==============================] - 68s 3s/step - loss: 0.1052 - accuracy: 0.9653 - val_loss: 0.6375 - val_accuracy: 0.8599\n",
      "Epoch 10/30\n",
      "24/24 [==============================] - 67s 3s/step - loss: 0.1067 - accuracy: 0.9635 - val_loss: 0.5374 - val_accuracy: 0.8607\n",
      "Epoch 11/30\n",
      "24/24 [==============================] - 70s 3s/step - loss: 0.0877 - accuracy: 0.9691 - val_loss: 0.5681 - val_accuracy: 0.8761\n",
      "Epoch 12/30\n",
      "24/24 [==============================] - 72s 3s/step - loss: 0.0596 - accuracy: 0.9795 - val_loss: 0.6508 - val_accuracy: 0.8781\n",
      "Epoch 13/30\n",
      "24/24 [==============================] - 72s 3s/step - loss: 0.0427 - accuracy: 0.9857 - val_loss: 0.6762 - val_accuracy: 0.8593\n",
      "Epoch 14/30\n",
      "24/24 [==============================] - 78s 3s/step - loss: 0.0404 - accuracy: 0.9843 - val_loss: 0.7054 - val_accuracy: 0.8631\n",
      "Epoch 15/30\n",
      "24/24 [==============================] - 85s 4s/step - loss: 0.0539 - accuracy: 0.9803 - val_loss: 0.7135 - val_accuracy: 0.8626\n",
      "Epoch 16/30\n",
      "24/24 [==============================] - 83s 4s/step - loss: 0.0357 - accuracy: 0.9888 - val_loss: 0.7619 - val_accuracy: 0.8673\n",
      "Epoch 17/30\n",
      "24/24 [==============================] - 142s 6s/step - loss: 0.0476 - accuracy: 0.9842 - val_loss: 0.7345 - val_accuracy: 0.8668\n",
      "Epoch 00017: early stopping\n"
     ]
    }
   ],
   "source": [
    "model2 = Sequential([ base_model,\n",
    "  layers.RandomFlip(\"horizontal_and_vertical\"),\n",
    "  layers.RandomRotation(0.2),\n",
    "])\n",
    "\n",
    "model2.add(Flatten(input_shape = (128, 128, 3)))\n",
    "model2.add(Dense(200, activation = 'relu'))\n",
    "model2.add(Dense(128, activation = 'relu'))\n",
    "model2.add(Dense(128, activation = 'relu'))\n",
    "model2.add(Dense(128, activation = 'relu'))\n",
    "model2.add(Dense(128, activation = 'relu'))\n",
    "model2.add(Dense(64, activation = 'relu'))\n",
    "model2.add(Dense(64, activation = 'relu'))\n",
    "model2.add(Dense(48, activation = 'relu'))\n",
    "\n",
    "model2.add(Dense(13, activation = 'softmax'))\n",
    "# Compile model.\n",
    "model2.compile(loss='categorical_crossentropy',\n",
    "              optimizer='adam',\n",
    "              metrics=['accuracy'])\n",
    "model2.trainable = True\n",
    "early_stop = EarlyStopping(monitor = 'val_accuracy', min_delta=0, patience = 5, verbose = 1, mode = 'auto')\n",
    "history2  = model2.fit(X_train_alt,\n",
    "                    y_train_alt, \n",
    "                    batch_size=256,\n",
    "                    validation_data=(X_test_alt, y_test_alt),\n",
    "                    epochs=30,\n",
    "                    verbose=1,\n",
    "                    callbacks = [early_stop])"
   ]
  },
  {
   "cell_type": "code",
   "execution_count": 15,
   "id": "f349da08-b207-4a71-bd18-5ceaf79e6555",
   "metadata": {},
   "outputs": [],
   "source": [
    "model2.save('saved_models/order_es.h5')"
   ]
  },
  {
   "cell_type": "code",
   "execution_count": null,
   "id": "1e61e75c-8d2f-4a21-a86f-b7cfee90cff2",
   "metadata": {},
   "outputs": [],
   "source": []
  },
  {
   "cell_type": "markdown",
   "id": "7b642a17-c8b8-4052-9a5a-d7e3f9d317c9",
   "metadata": {},
   "source": [
    "## Working with the saved model "
   ]
  },
  {
   "cell_type": "code",
   "execution_count": 2,
   "id": "9ab215ad-6bd1-4919-ac2e-edf89f93f70d",
   "metadata": {},
   "outputs": [
    {
     "name": "stdout",
     "output_type": "stream",
     "text": [
      "WARNING:tensorflow:Error in loading the saved optimizer state. As a result, your model is starting with a freshly initialized optimizer.\n"
     ]
    }
   ],
   "source": [
    "new_model_uploaded = tf.keras.models.load_model('saved_models/order_es.h5')"
   ]
  },
  {
   "cell_type": "code",
   "execution_count": 3,
   "id": "f6bfdce4-462e-48bc-8731-4548d2240464",
   "metadata": {},
   "outputs": [
    {
     "ename": "TypeError",
     "evalue": "'NoneType' object is not subscriptable",
     "output_type": "error",
     "traceback": [
      "\u001b[1;31m---------------------------------------------------------------------------\u001b[0m",
      "\u001b[1;31mTypeError\u001b[0m                                 Traceback (most recent call last)",
      "\u001b[1;32m<ipython-input-3-5c1089234beb>\u001b[0m in \u001b[0;36m<module>\u001b[1;34m\u001b[0m\n\u001b[0;32m      1\u001b[0m \u001b[1;31m# Add in Loss views and see how we can view it\u001b[0m\u001b[1;33m\u001b[0m\u001b[1;33m\u001b[0m\u001b[1;33m\u001b[0m\u001b[0m\n\u001b[0;32m      2\u001b[0m \u001b[1;31m# Check out our train loss and test loss over epochs.\u001b[0m\u001b[1;33m\u001b[0m\u001b[1;33m\u001b[0m\u001b[1;33m\u001b[0m\u001b[0m\n\u001b[1;32m----> 3\u001b[1;33m \u001b[0mtrain_loss\u001b[0m \u001b[1;33m=\u001b[0m \u001b[0mnew_model_uploaded\u001b[0m\u001b[1;33m.\u001b[0m\u001b[0mhistory\u001b[0m\u001b[1;33m[\u001b[0m\u001b[1;34m'loss'\u001b[0m\u001b[1;33m]\u001b[0m\u001b[1;33m\u001b[0m\u001b[1;33m\u001b[0m\u001b[0m\n\u001b[0m\u001b[0;32m      4\u001b[0m \u001b[0mtest_loss\u001b[0m \u001b[1;33m=\u001b[0m \u001b[0mnew_model_uploaded\u001b[0m\u001b[1;33m.\u001b[0m\u001b[0mhistory\u001b[0m\u001b[1;33m[\u001b[0m\u001b[1;34m'val_loss'\u001b[0m\u001b[1;33m]\u001b[0m\u001b[1;33m\u001b[0m\u001b[1;33m\u001b[0m\u001b[0m\n\u001b[0;32m      5\u001b[0m \u001b[1;33m\u001b[0m\u001b[0m\n",
      "\u001b[1;31mTypeError\u001b[0m: 'NoneType' object is not subscriptable"
     ]
    }
   ],
   "source": [
    "# Add in Loss views and see how we can view it \n",
    "# Check out our train loss and test loss over epochs.\n",
    "train_loss = new_model_uploaded.history['loss']\n",
    "test_loss = new_model_uploaded.history['val_loss']\n",
    "\n",
    "# Set figure size.\n",
    "plt.figure(figsize=(12, 8))\n",
    "\n",
    "# Generate line plot of training, testing loss over epochs.\n",
    "plt.plot(train_loss, label='Training Loss', color='purple')\n",
    "plt.plot(test_loss, label='Testing Loss', color='orange')\n",
    "\n",
    "# Set title\n",
    "plt.title('Training and Testing Loss by Epoch', fontsize = 25)\n",
    "plt.xlabel('Epoch', fontsize = 18)\n",
    "plt.ylabel('Categorical Crossentropy', fontsize = 18)\n",
    "\n",
    "plt.legend(fontsize = 18);"
   ]
  },
  {
   "cell_type": "code",
   "execution_count": 13,
   "id": "c866b75d-99d8-4a09-9456-07e9d2779220",
   "metadata": {},
   "outputs": [],
   "source": [
    "# Prep data for confusion matrix\n",
    "predictions=new_model_uploaded.predict(X_test_alt) \n",
    "pred_f=np.argmax(predictions,axis=1)\n",
    "y_test_f=np.argmax(y_test_alt,axis=1)"
   ]
  },
  {
   "cell_type": "code",
   "execution_count": 91,
   "id": "05e467d6-ea53-4b33-b6a6-29ce25b3adc5",
   "metadata": {},
   "outputs": [
    {
     "data": {
      "image/png": "[encoded data removed]",
      "text/plain": [
       "<Figure size 1440x1440 with 2 Axes>"
      ]
     },
     "metadata": {
      "needs_background": "light"
     },
     "output_type": "display_data"
    }
   ],
   "source": [
    "cm = metrics.confusion_matrix(y_test_f, pred_f, normalize='true') #set normalize = true to see the % distribution by row \n",
    "fig, ax = plt.subplots(figsize=(20, 20))\n",
    "disp = ConfusionMatrixDisplay(confusion_matrix=cm, display_labels=class_names)\n",
    "disp.plot(ax=ax, cmap='cubehelix')\n",
    "plt.xticks(rotation=90);"
   ]
  },
  {
   "cell_type": "code",
   "execution_count": null,
   "id": "6b87873c-7bd5-4de1-9d38-fee84634d640",
   "metadata": {},
   "outputs": [],
   "source": [
    "# LOAD AN EXAMPLE IMAGE"
   ]
  },
  {
   "cell_type": "code",
   "execution_count": 29,
   "id": "ce694f6f-f83b-4f44-8b87-6ccf48414018",
   "metadata": {},
   "outputs": [],
   "source": [
    "def load_image(path):\n",
    "    images = Image.open(f'./../CUB_200_2011/images/{path}') \n",
    "    new_image=images.resize((128,128))\n",
    "    color_image=new_image.convert(\"RGB\")\n",
    "    arrays1 = np.asarray(color_image)\n",
    "    floaters= arrays1.astype('float32')\n",
    "    floaters2=floaters/255.0\n",
    "    return floaters2"
   ]
  },
  {
   "cell_type": "code",
   "execution_count": 30,
   "id": "4ccff03a-48a7-4ecf-bf9f-6e45393f125d",
   "metadata": {},
   "outputs": [],
   "source": [
    "example1=load_image(\"017.Cardinal/Cardinal_0022_17233.jpg\")\n",
    "example2=np.asarray(example1)\n",
    "example3 = example2.reshape(1, 128, 128, 3)"
   ]
  },
  {
   "cell_type": "code",
   "execution_count": 31,
   "id": "6b57432d-0154-43c9-bf50-666c570e429e",
   "metadata": {},
   "outputs": [],
   "source": [
    "predictions1=new_model_uploaded.predict(example3) \n",
    "pred_f1=np.argmax(predictions1,axis=1)\n"
   ]
  },
  {
   "cell_type": "code",
   "execution_count": 45,
   "id": "5dc7c00b-649d-4e75-a567-281806c82e7f",
   "metadata": {},
   "outputs": [
    {
     "data": {
      "text/plain": [
       "array([[6.1056737e-12, 3.5156714e-07, 1.2836688e-05, 1.9924647e-04,\n",
       "        2.2087386e-06, 8.6521568e-06, 8.0251948e-07, 9.9976486e-01,\n",
       "        9.7821123e-07, 8.8709967e-06, 2.6225090e-08, 7.8682473e-07,\n",
       "        4.9166164e-07]], dtype=float32)"
      ]
     },
     "execution_count": 45,
     "metadata": {},
     "output_type": "execute_result"
    }
   ],
   "source": [
    "predictions1\n"
   ]
  },
  {
   "cell_type": "code",
   "execution_count": 62,
   "id": "84ebd70e-a9ad-431e-b749-0c1deb324192",
   "metadata": {},
   "outputs": [
    {
     "name": "stdout",
     "output_type": "stream",
     "text": [
      "The model is 99.98% sure that this species belongs to THAT!\n"
     ]
    }
   ],
   "source": [
    "max_pred=np.max(predictions1)\n",
    "max_pred_perc=max_pred*100\n",
    "format_pred_perc = \"{:.2f}\".format(max_pred_perc)\n",
    "print (f'The model is {format_float}% sure that this species belongs to THAT!')"
   ]
  },
  {
   "cell_type": "code",
   "execution_count": 54,
   "id": "2bad3fc7-6b52-41fe-8203-7790a7925088",
   "metadata": {},
   "outputs": [
    {
     "data": {
      "text/plain": [
       "array([7], dtype=int64)"
      ]
     },
     "execution_count": 54,
     "metadata": {},
     "output_type": "execute_result"
    }
   ],
   "source": [
    "max_pred=np.max(predictions1)\n",
    "result=np.where(predictions1==max_pred)\n",
    "classification_index=result[1]\n",
    "classification_index\n",
    "#print(\"Elements with max value exists at following indices\", result[1])"
   ]
  },
  {
   "cell_type": "code",
   "execution_count": 55,
   "id": "31eb8e14-4d4d-4026-b2a3-9a420a0162e2",
   "metadata": {},
   "outputs": [
    {
     "name": "stdout",
     "output_type": "stream",
     "text": [
      "[7]\n",
      "7\n"
     ]
    }
   ],
   "source": [
    "print(pred_f1)\n",
    "print(int(pred_f1))"
   ]
  },
  {
   "cell_type": "code",
   "execution_count": 65,
   "id": "bb243dc4-2a2f-41f8-bb92-fa33b0b9482b",
   "metadata": {},
   "outputs": [
    {
     "data": {
      "text/plain": [
       "'PASSERIFORMES'"
      ]
     },
     "execution_count": 65,
     "metadata": {},
     "output_type": "execute_result"
    }
   ],
   "source": [
    "class_names[int(pred_f1)-1]"
   ]
  },
  {
   "cell_type": "code",
   "execution_count": 70,
   "id": "81e6017e-db8a-4fd1-9807-e558f8fcc2e9",
   "metadata": {},
   "outputs": [],
   "source": [
    "#Function to upload an image \n",
    "def load_image_new(path):\n",
    "    images = Image.open(f'{path}') \n",
    "    new_image=images.resize((128,128))\n",
    "    color_image=new_image.convert(\"RGB\")\n",
    "    arrays1 = np.asarray(color_image)\n",
    "    floaters= arrays1.astype('float32')\n",
    "    floaters2=floaters/255.0\n",
    "    floaters3=np.asarray(floaters2)\n",
    "    floaters4 = floaters3.reshape(1, 128, 128, 3)\n",
    "    return floaters4"
   ]
  },
  {
   "cell_type": "code",
   "execution_count": 131,
   "id": "415161f9-ed3d-43a1-b919-498738dfc4a0",
   "metadata": {},
   "outputs": [
    {
     "data": {
      "text/plain": [
       "[(1, 'Anseriformes'),\n",
       " (2, 'Caprimulgiformes'),\n",
       " (3, 'Charadriiformes'),\n",
       " (4, 'Coraciiformes'),\n",
       " (5, 'Cuculiformes'),\n",
       " (6, 'Gaviiformes'),\n",
       " (7, 'Passeriformes'),\n",
       " (8, 'Pelecaniformes'),\n",
       " (9, 'Piciformes'),\n",
       " (10, 'Podicipediformes'),\n",
       " (11, 'Procellariiformes'),\n",
       " (12, 'Suliformes')]"
      ]
     },
     "execution_count": 131,
     "metadata": {},
     "output_type": "execute_result"
    }
   ],
   "source": [
    "order_names_sorted"
   ]
  },
  {
   "cell_type": "code",
   "execution_count": 145,
   "id": "60df2b37-cd06-4865-8f99-58373f2a424b",
   "metadata": {},
   "outputs": [],
   "source": [
    "class_names_dict={\n",
    "0:\"ANSERIFORMES\",\n",
    "1:\"CAPRIMULGIFORMES\",\n",
    "2:\"CHARADRIIFORMES\",\n",
    "3:\"CORACIIFORMES\",\n",
    "4:\"CUCULIFORMES\",\n",
    "5:\"GAVIIFORMES\",\n",
    "6:\"PASSERIFORMES\",\n",
    "7:\"PELECANIFORMES\",\n",
    "8:\"PICIFORMES\",\n",
    "9:\"PODICIPEDIFORMES\",\n",
    "10:\"PROCELLARIIFORMES\",\n",
    "11:\"SULIFORMES\"\n",
    "}"
   ]
  },
  {
   "cell_type": "code",
   "execution_count": 147,
   "id": "912440c8-6752-46bf-b07d-4b30850cde49",
   "metadata": {},
   "outputs": [
    {
     "data": {
      "text/plain": [
       "array([[1.0901128e-21, 4.8088803e-12, 3.1519714e-09, 4.9259569e-07,\n",
       "        6.3373384e-13, 2.6862508e-09, 5.4394066e-11, 9.9999952e-01,\n",
       "        9.4033548e-13, 1.2013467e-10, 3.3951086e-14, 2.3698181e-12,\n",
       "        1.7745485e-13]], dtype=float32)"
      ]
     },
     "execution_count": 147,
     "metadata": {},
     "output_type": "execute_result"
    }
   ],
   "source": [
    "predictions3"
   ]
  },
  {
   "cell_type": "code",
   "execution_count": 148,
   "id": "1646ff6b-6f5a-42f7-8ffd-92f1576d57ab",
   "metadata": {},
   "outputs": [
    {
     "name": "stdout",
     "output_type": "stream",
     "text": [
      "Passeriformes\n",
      "PELECANIFORMES\n",
      "[7]\n",
      "(8, 'Pelecaniformes')\n"
     ]
    }
   ],
   "source": [
    "test_case1=load_image_new(\"test_images/cardinal_1.jpg\")\n",
    "\n",
    "predictions3=new_model_uploaded.predict(test_case1) \n",
    "pred_f3=np.argmax(predictions3,axis=1)\n",
    "\n",
    "good_name=order_names_sorted[int(pred_f3)]\n",
    "final=class_names_dict.get(int(pred_f3)-1).title()\n",
    "print(final)\n",
    "print(class_names[int(pred_f3)])\n",
    "print(pred_f3)\n",
    "print(good_name)"
   ]
  },
  {
   "cell_type": "code",
   "execution_count": 87,
   "id": "247b50ba-ff4b-4e52-a538-04ab535666ff",
   "metadata": {},
   "outputs": [
    {
     "data": {
      "text/plain": [
       "array([[1.0901128e-21, 4.8088803e-12, 3.1519714e-09, 4.9259569e-07,\n",
       "        6.3373384e-13, 2.6862508e-09, 5.4394066e-11, 9.9999952e-01,\n",
       "        9.4033548e-13, 1.2013467e-10, 3.3951086e-14, 2.3698181e-12,\n",
       "        1.7745485e-13]], dtype=float32)"
      ]
     },
     "execution_count": 87,
     "metadata": {},
     "output_type": "execute_result"
    }
   ],
   "source": [
    "predictions3"
   ]
  },
  {
   "cell_type": "code",
   "execution_count": null,
   "id": "19941b0c-6aac-457f-a3de-43a10e81ec1a",
   "metadata": {},
   "outputs": [],
   "source": []
  },
  {
   "cell_type": "code",
   "execution_count": 89,
   "id": "d81c4103-7c05-4ba2-90b9-4591925b9f88",
   "metadata": {},
   "outputs": [],
   "source": [
    "## Streamlit Test Code"
   ]
  },
  {
   "cell_type": "code",
   "execution_count": 107,
   "id": "ca07c6ee-7a89-4f80-a7a3-2ede4b28262a",
   "metadata": {},
   "outputs": [],
   "source": [
    "#Function to upload an image \n",
    "def load_image_new(path):\n",
    "    images = Image.open(path) \n",
    "    new_image=images.resize((128,128))\n",
    "    color_image=new_image.convert(\"RGB\")\n",
    "    arrays1 = np.asarray(color_image)\n",
    "    floaters= arrays1.astype('float32')\n",
    "    floaters2=floaters/255.0\n",
    "    floaters3=np.asarray(floaters2)\n",
    "    floaters4 = floaters3.reshape(1, 128, 128, 3)\n",
    "    return floaters4"
   ]
  },
  {
   "cell_type": "code",
   "execution_count": 108,
   "id": "d62f4aae-e9c6-4dc8-935f-9200b9553b49",
   "metadata": {},
   "outputs": [],
   "source": [
    "test_case1=load_image_new(\"test_images/albatross.jpg\")"
   ]
  },
  {
   "cell_type": "code",
   "execution_count": 135,
   "id": "1e3f92b5-ebd9-406b-baf6-20e093983590",
   "metadata": {},
   "outputs": [],
   "source": [
    "#function to classify birds in Streamlit\n",
    "\n",
    "def predict_birds_order_with_prob(file):\n",
    "    best_model_1 = tf.keras.models.load_model('saved_models/order_es.h5')\n",
    "    preds1=best_model_1.predict(file)\n",
    "    preds2=np.argmax(preds1,axis=1)\n",
    "    good_name=order_names_sorted[int(preds2)-1]\n",
    "    max_pred=np.max(preds1)\n",
    "    max_pred_perc=max_pred*100\n",
    "    format_pred_perc = \"{:.2f}\".format(max_pred_perc)\n",
    "    return format_pred_perc, good_name[1]\n"
   ]
  },
  {
   "cell_type": "code",
   "execution_count": 136,
   "id": "92a83e6f-ad25-4450-847e-d8011033cb7f",
   "metadata": {},
   "outputs": [
    {
     "name": "stdout",
     "output_type": "stream",
     "text": [
      "WARNING:tensorflow:Error in loading the saved optimizer state. As a result, your model is starting with a freshly initialized optimizer.\n"
     ]
    },
    {
     "data": {
      "text/plain": [
       "('100.00', 'Passeriformes')"
      ]
     },
     "execution_count": 136,
     "metadata": {},
     "output_type": "execute_result"
    }
   ],
   "source": [
    "predict_birds_order_with_prob(test_case1)"
   ]
  },
  {
   "cell_type": "code",
   "execution_count": 115,
   "id": "430eb2b0-4fae-4039-96bc-f37c572e3ca0",
   "metadata": {},
   "outputs": [
    {
     "ename": "NameError",
     "evalue": "name 'preds2' is not defined",
     "output_type": "error",
     "traceback": [
      "\u001b[1;31m---------------------------------------------------------------------------\u001b[0m",
      "\u001b[1;31mNameError\u001b[0m                                 Traceback (most recent call last)",
      "\u001b[1;32m<ipython-input-115-c68d3ad3136f>\u001b[0m in \u001b[0;36m<module>\u001b[1;34m\u001b[0m\n\u001b[1;32m----> 1\u001b[1;33m \u001b[0morder_names_sorted\u001b[0m\u001b[1;33m[\u001b[0m\u001b[0mint\u001b[0m\u001b[1;33m(\u001b[0m\u001b[0mpreds2\u001b[0m\u001b[1;33m)\u001b[0m\u001b[1;33m]\u001b[0m\u001b[1;33m\u001b[0m\u001b[1;33m\u001b[0m\u001b[0m\n\u001b[0m",
      "\u001b[1;31mNameError\u001b[0m: name 'preds2' is not defined"
     ]
    }
   ],
   "source": [
    "order_names_sorted[int(preds2)]"
   ]
  },
  {
   "cell_type": "code",
   "execution_count": null,
   "id": "234bd149-4d89-40d7-877a-778c26d29b4b",
   "metadata": {},
   "outputs": [],
   "source": []
  },
  {
   "cell_type": "code",
   "execution_count": null,
   "id": "e71ee977-660b-486b-8db7-91da6402451a",
   "metadata": {},
   "outputs": [],
   "source": []
  },
  {
   "cell_type": "code",
   "execution_count": null,
   "id": "38f472fe-b50b-4ea9-9c42-968abbcffa47",
   "metadata": {},
   "outputs": [],
   "source": []
  },
  {
   "cell_type": "code",
   "execution_count": null,
   "id": "75cf40f4-2a6f-4248-a555-4d122f7191f2",
   "metadata": {},
   "outputs": [],
   "source": []
  },
  {
   "cell_type": "code",
   "execution_count": null,
   "id": "f0c9a01b-16a7-4f53-afc4-df93cb847241",
   "metadata": {},
   "outputs": [],
   "source": []
  },
  {
   "cell_type": "code",
   "execution_count": null,
   "id": "7f1c5ec4-13d5-49a1-a6f5-62ad98375d83",
   "metadata": {},
   "outputs": [],
   "source": []
  },
  {
   "cell_type": "code",
   "execution_count": null,
   "id": "9658e07e-92ce-4a86-bb57-36bd567f1907",
   "metadata": {},
   "outputs": [],
   "source": []
  },
  {
   "cell_type": "code",
   "execution_count": null,
   "id": "0bd84c88-f50c-4344-af53-46c1003ea828",
   "metadata": {},
   "outputs": [],
   "source": []
  },
  {
   "cell_type": "code",
   "execution_count": null,
   "id": "6415c154-514c-43e3-9a1b-f6c60c08b8d0",
   "metadata": {},
   "outputs": [],
   "source": []
  },
  {
   "cell_type": "code",
   "execution_count": null,
   "id": "6f080252-e108-4538-9c94-eee9d453215c",
   "metadata": {},
   "outputs": [],
   "source": []
  },
  {
   "cell_type": "code",
   "execution_count": null,
   "id": "91f6635b-cf26-468a-b083-2364ced69951",
   "metadata": {},
   "outputs": [],
   "source": []
  },
  {
   "cell_type": "markdown",
   "id": "a3ed4236-2814-4d1e-a966-dd3ff27feeea",
   "metadata": {},
   "source": [
    "## Previous Models "
   ]
  },
  {
   "cell_type": "code",
   "execution_count": 23,
   "id": "d53a4207-4d59-40df-b36e-d7dbddbadda7",
   "metadata": {},
   "outputs": [
    {
     "name": "stdout",
     "output_type": "stream",
     "text": [
      "Epoch 1/30\n",
      "24/24 [==============================] - 114s 5s/step - loss: 1.2061 - accuracy: 0.6900 - val_loss: 0.6535 - val_accuracy: 0.8124\n",
      "Epoch 2/30\n",
      "24/24 [==============================] - 109s 5s/step - loss: 0.5725 - accuracy: 0.8207 - val_loss: 0.5318 - val_accuracy: 0.8345\n",
      "Epoch 3/30\n",
      "24/24 [==============================] - 102s 4s/step - loss: 0.4103 - accuracy: 0.8674 - val_loss: 0.4761 - val_accuracy: 0.8519\n",
      "Epoch 4/30\n",
      "24/24 [==============================] - 103s 4s/step - loss: 0.3123 - accuracy: 0.8992 - val_loss: 0.4577 - val_accuracy: 0.8585\n",
      "Epoch 5/30\n",
      "24/24 [==============================] - 102s 4s/step - loss: 0.2531 - accuracy: 0.9149 - val_loss: 0.4166 - val_accuracy: 0.8697\n",
      "Epoch 6/30\n",
      "24/24 [==============================] - 101s 4s/step - loss: 0.1759 - accuracy: 0.9431 - val_loss: 0.4548 - val_accuracy: 0.8697\n",
      "Epoch 7/30\n",
      "24/24 [==============================] - 77s 3s/step - loss: 0.1390 - accuracy: 0.9543 - val_loss: 0.4988 - val_accuracy: 0.8685\n",
      "Epoch 8/30\n",
      "24/24 [==============================] - 72s 3s/step - loss: 0.1068 - accuracy: 0.9633 - val_loss: 0.4787 - val_accuracy: 0.8637\n",
      "Epoch 9/30\n",
      "24/24 [==============================] - 70s 3s/step - loss: 0.1028 - accuracy: 0.9656 - val_loss: 0.5123 - val_accuracy: 0.8718\n",
      "Epoch 10/30\n",
      "24/24 [==============================] - 69s 3s/step - loss: 0.0940 - accuracy: 0.9688 - val_loss: 0.5226 - val_accuracy: 0.8612\n",
      "Epoch 11/30\n",
      "24/24 [==============================] - 70s 3s/step - loss: 0.0694 - accuracy: 0.9766 - val_loss: 0.5395 - val_accuracy: 0.8680\n",
      "Epoch 12/30\n",
      "24/24 [==============================] - 72s 3s/step - loss: 0.0533 - accuracy: 0.9826 - val_loss: 0.6051 - val_accuracy: 0.8692\n",
      "Epoch 13/30\n",
      "24/24 [==============================] - 67s 3s/step - loss: 0.0474 - accuracy: 0.9860 - val_loss: 0.5708 - val_accuracy: 0.8666\n",
      "Epoch 14/30\n",
      "24/24 [==============================] - 70s 3s/step - loss: 0.0305 - accuracy: 0.9913 - val_loss: 0.5691 - val_accuracy: 0.8699\n",
      "Epoch 15/30\n",
      "24/24 [==============================] - 72s 3s/step - loss: 0.0388 - accuracy: 0.9865 - val_loss: 0.6590 - val_accuracy: 0.8709\n",
      "Epoch 16/30\n",
      "24/24 [==============================] - 71s 3s/step - loss: 0.0286 - accuracy: 0.9917 - val_loss: 0.6196 - val_accuracy: 0.8725\n",
      "Epoch 17/30\n",
      "24/24 [==============================] - 71s 3s/step - loss: 0.0200 - accuracy: 0.9948 - val_loss: 0.6942 - val_accuracy: 0.8716\n",
      "Epoch 18/30\n",
      "24/24 [==============================] - 109s 5s/step - loss: 0.0238 - accuracy: 0.9927 - val_loss: 0.6843 - val_accuracy: 0.8700\n",
      "Epoch 19/30\n",
      "24/24 [==============================] - 121s 5s/step - loss: 0.0147 - accuracy: 0.9957 - val_loss: 0.7010 - val_accuracy: 0.8728\n",
      "Epoch 20/30\n",
      "24/24 [==============================] - 119s 5s/step - loss: 0.0104 - accuracy: 0.9978 - val_loss: 0.7047 - val_accuracy: 0.8754\n",
      "Epoch 21/30\n",
      "24/24 [==============================] - 118s 5s/step - loss: 0.0059 - accuracy: 0.9993 - val_loss: 0.7181 - val_accuracy: 0.8723\n",
      "Epoch 22/30\n",
      "24/24 [==============================] - 118s 5s/step - loss: 0.0052 - accuracy: 0.9993 - val_loss: 0.7198 - val_accuracy: 0.8699\n",
      "Epoch 23/30\n",
      "24/24 [==============================] - 119s 5s/step - loss: 0.0041 - accuracy: 0.9988 - val_loss: 0.7530 - val_accuracy: 0.8744\n",
      "Epoch 24/30\n",
      "24/24 [==============================] - 119s 5s/step - loss: 0.0076 - accuracy: 0.9975 - val_loss: 0.8575 - val_accuracy: 0.8728\n",
      "Epoch 25/30\n",
      "24/24 [==============================] - 119s 5s/step - loss: 0.0052 - accuracy: 0.9995 - val_loss: 0.7794 - val_accuracy: 0.8728\n",
      "Epoch 26/30\n",
      "24/24 [==============================] - 118s 5s/step - loss: 0.0056 - accuracy: 0.9982 - val_loss: 0.7575 - val_accuracy: 0.8661\n",
      "Epoch 27/30\n",
      "24/24 [==============================] - 119s 5s/step - loss: 0.0039 - accuracy: 0.9990 - val_loss: 0.8910 - val_accuracy: 0.8692\n",
      "Epoch 28/30\n",
      "24/24 [==============================] - 118s 5s/step - loss: 0.0052 - accuracy: 0.9987 - val_loss: 0.8482 - val_accuracy: 0.8744\n",
      "Epoch 29/30\n",
      "24/24 [==============================] - 119s 5s/step - loss: 0.0039 - accuracy: 0.9990 - val_loss: 0.8356 - val_accuracy: 0.8714\n",
      "Epoch 30/30\n",
      "24/24 [==============================] - 117s 5s/step - loss: 0.0058 - accuracy: 0.9987 - val_loss: 0.8664 - val_accuracy: 0.8671\n"
     ]
    }
   ],
   "source": [
    "model_alt6 = Sequential([ base_model,\n",
    "  layers.RandomFlip(\"horizontal_and_vertical\"),\n",
    "  layers.RandomRotation(0.2),\n",
    "])\n",
    "\n",
    "model_alt6.add(Flatten(input_shape = (128, 128, 3)))\n",
    "model_alt6.add(Dense(200, activation = 'relu'))\n",
    "model_alt6.add(Dense(128, activation = 'relu'))\n",
    "model_alt6.add(Dense(128, activation = 'relu'))\n",
    "model_alt6.add(Dense(64, activation = 'relu'))\n",
    "model_alt6.add(Dense(48, activation = 'relu'))\n",
    "\n",
    "model_alt6.add(Dense(13, activation = 'softmax'))\n",
    "# Compile model.\n",
    "model_alt6.compile(loss='categorical_crossentropy',\n",
    "              optimizer='adam',\n",
    "              metrics=['accuracy'])\n",
    "model_alt6.trainable = True\n",
    "history_alt6  = model_alt6.fit(X_train_alt,\n",
    "                    y_train_alt, \n",
    "                    batch_size=256,\n",
    "                    validation_data=(X_test_alt, y_test_alt),\n",
    "                    epochs=30,\n",
    "                    verbose=1)"
   ]
  },
  {
   "cell_type": "code",
   "execution_count": 33,
   "id": "cd9d7f75-6ace-4f1b-911a-78c3f48e4ca3",
   "metadata": {},
   "outputs": [
    {
     "data": {
      "text/plain": [
       "[('Run 5', 0.7183850407600403, 0.7166033983230591),\n",
       " ('Run 6', 0.9986653327941895, 0.8671038746833801)]"
      ]
     },
     "execution_count": 33,
     "metadata": {},
     "output_type": "execute_result"
    }
   ],
   "source": [
    "history_full=[\n",
    "(\"Run 5\",history_alt5.history['accuracy'][-1], history_alt5.history['val_accuracy'][-1]),\n",
    "(\"Run 6\",history_alt6.history['accuracy'][-1], history_alt6.history['val_accuracy'][-1])\n",
    "]\n",
    "history_full"
   ]
  },
  {
   "cell_type": "code",
   "execution_count": 34,
   "id": "f3061f72-c7d3-4eb9-9c9b-15d2c857762d",
   "metadata": {},
   "outputs": [
    {
     "data": {
      "text/html": [
       "<div>\n",
       "<style scoped>\n",
       "    .dataframe tbody tr th:only-of-type {\n",
       "        vertical-align: middle;\n",
       "    }\n",
       "\n",
       "    .dataframe tbody tr th {\n",
       "        vertical-align: top;\n",
       "    }\n",
       "\n",
       "    .dataframe thead th {\n",
       "        text-align: right;\n",
       "    }\n",
       "</style>\n",
       "<table border=\"1\" class=\"dataframe\">\n",
       "  <thead>\n",
       "    <tr style=\"text-align: right;\">\n",
       "      <th></th>\n",
       "      <th>Name</th>\n",
       "      <th>Training Accuracy</th>\n",
       "      <th>Testing Accuracy</th>\n",
       "    </tr>\n",
       "  </thead>\n",
       "  <tbody>\n",
       "    <tr>\n",
       "      <th>0</th>\n",
       "      <td>Run 5</td>\n",
       "      <td>0.718385</td>\n",
       "      <td>0.716603</td>\n",
       "    </tr>\n",
       "    <tr>\n",
       "      <th>1</th>\n",
       "      <td>Run 6</td>\n",
       "      <td>0.998665</td>\n",
       "      <td>0.867104</td>\n",
       "    </tr>\n",
       "  </tbody>\n",
       "</table>\n",
       "</div>"
      ],
      "text/plain": [
       "    Name  Training Accuracy  Testing Accuracy\n",
       "0  Run 5           0.718385          0.716603\n",
       "1  Run 6           0.998665          0.867104"
      ]
     },
     "execution_count": 34,
     "metadata": {},
     "output_type": "execute_result"
    }
   ],
   "source": [
    "df = pd.DataFrame(history_full, columns=['Name','Training Accuracy', 'Testing Accuracy'])\n",
    "\n",
    "df.head()"
   ]
  },
  {
   "cell_type": "code",
   "execution_count": null,
   "id": "3bd6f7bf-cdd9-408d-883f-161526943a11",
   "metadata": {},
   "outputs": [],
   "source": []
  },
  {
   "cell_type": "code",
   "execution_count": null,
   "id": "f57ea05d-7c94-43ec-93ca-9479fce327f2",
   "metadata": {},
   "outputs": [],
   "source": []
  },
  {
   "cell_type": "code",
   "execution_count": 11,
   "id": "82b87142-0712-4820-9e37-8d787d26b8d7",
   "metadata": {},
   "outputs": [
    {
     "name": "stdout",
     "output_type": "stream",
     "text": [
      "Epoch 1/30\n",
      "24/24 [==============================] - 61s 2s/step - loss: 1.2068 - accuracy: 0.6707 - val_loss: 0.7466 - val_accuracy: 0.7884\n",
      "Epoch 2/30\n",
      "24/24 [==============================] - 67s 3s/step - loss: 0.6551 - accuracy: 0.8003 - val_loss: 0.5592 - val_accuracy: 0.8269\n",
      "Epoch 3/30\n",
      "24/24 [==============================] - 69s 3s/step - loss: 0.4671 - accuracy: 0.8463 - val_loss: 0.5045 - val_accuracy: 0.8419\n",
      "Epoch 4/30\n",
      "24/24 [==============================] - 70s 3s/step - loss: 0.3474 - accuracy: 0.8857 - val_loss: 0.4472 - val_accuracy: 0.8597\n",
      "Epoch 5/30\n",
      "24/24 [==============================] - 73s 3s/step - loss: 0.2670 - accuracy: 0.9117 - val_loss: 0.4658 - val_accuracy: 0.8528\n",
      "Epoch 6/30\n",
      "24/24 [==============================] - 75s 3s/step - loss: 0.2283 - accuracy: 0.9271 - val_loss: 0.5065 - val_accuracy: 0.8552\n",
      "Epoch 7/30\n",
      "24/24 [==============================] - 77s 3s/step - loss: 0.1862 - accuracy: 0.9328 - val_loss: 0.4999 - val_accuracy: 0.8628\n",
      "Epoch 8/30\n",
      "24/24 [==============================] - 77s 3s/step - loss: 0.1421 - accuracy: 0.9525 - val_loss: 0.5157 - val_accuracy: 0.8711\n",
      "Epoch 9/30\n",
      "24/24 [==============================] - 77s 3s/step - loss: 0.1144 - accuracy: 0.9626 - val_loss: 0.5634 - val_accuracy: 0.8731\n",
      "Epoch 10/30\n",
      "24/24 [==============================] - 76s 3s/step - loss: 0.0900 - accuracy: 0.9686 - val_loss: 0.5242 - val_accuracy: 0.8661\n",
      "Epoch 11/30\n",
      "24/24 [==============================] - 79s 3s/step - loss: 0.0764 - accuracy: 0.9745 - val_loss: 0.5392 - val_accuracy: 0.8719\n",
      "Epoch 12/30\n",
      "24/24 [==============================] - 70s 3s/step - loss: 0.0664 - accuracy: 0.9791 - val_loss: 0.5718 - val_accuracy: 0.8695\n",
      "Epoch 13/30\n",
      "24/24 [==============================] - 74s 3s/step - loss: 0.0592 - accuracy: 0.9816 - val_loss: 0.6239 - val_accuracy: 0.8766\n",
      "Epoch 14/30\n",
      "24/24 [==============================] - 74s 3s/step - loss: 0.0573 - accuracy: 0.9816 - val_loss: 0.6545 - val_accuracy: 0.8540\n",
      "Epoch 15/30\n",
      "24/24 [==============================] - 73s 3s/step - loss: 0.0396 - accuracy: 0.9883 - val_loss: 0.6209 - val_accuracy: 0.8697\n",
      "Epoch 16/30\n",
      "24/24 [==============================] - 73s 3s/step - loss: 0.0238 - accuracy: 0.9937 - val_loss: 0.6580 - val_accuracy: 0.8752\n",
      "Epoch 17/30\n",
      "24/24 [==============================] - 76s 3s/step - loss: 0.0166 - accuracy: 0.9962 - val_loss: 0.7441 - val_accuracy: 0.8699\n",
      "Epoch 18/30\n",
      " 7/24 [=======>......................] - ETA: 29s - loss: 0.0159 - accuracy: 0.9967"
     ]
    },
    {
     "ename": "KeyboardInterrupt",
     "evalue": "",
     "output_type": "error",
     "traceback": [
      "\u001b[1;31m---------------------------------------------------------------------------\u001b[0m",
      "\u001b[1;31mKeyboardInterrupt\u001b[0m                         Traceback (most recent call last)",
      "\u001b[1;32m<ipython-input-11-86ca5e4912c9>\u001b[0m in \u001b[0;36m<module>\u001b[1;34m\u001b[0m\n\u001b[0;32m     18\u001b[0m               metrics=['accuracy'])\n\u001b[0;32m     19\u001b[0m \u001b[1;33m\u001b[0m\u001b[0m\n\u001b[1;32m---> 20\u001b[1;33m history_alt7  = model_alt7.fit(X_train_alt,\n\u001b[0m\u001b[0;32m     21\u001b[0m                     \u001b[0my_train_alt\u001b[0m\u001b[1;33m,\u001b[0m\u001b[1;33m\u001b[0m\u001b[1;33m\u001b[0m\u001b[0m\n\u001b[0;32m     22\u001b[0m                     \u001b[0mbatch_size\u001b[0m\u001b[1;33m=\u001b[0m\u001b[1;36m256\u001b[0m\u001b[1;33m,\u001b[0m\u001b[1;33m\u001b[0m\u001b[1;33m\u001b[0m\u001b[0m\n",
      "\u001b[1;32m~\\anaconda3\\lib\\site-packages\\keras\\utils\\traceback_utils.py\u001b[0m in \u001b[0;36merror_handler\u001b[1;34m(*args, **kwargs)\u001b[0m\n\u001b[0;32m     62\u001b[0m     \u001b[0mfiltered_tb\u001b[0m \u001b[1;33m=\u001b[0m \u001b[1;32mNone\u001b[0m\u001b[1;33m\u001b[0m\u001b[1;33m\u001b[0m\u001b[0m\n\u001b[0;32m     63\u001b[0m     \u001b[1;32mtry\u001b[0m\u001b[1;33m:\u001b[0m\u001b[1;33m\u001b[0m\u001b[1;33m\u001b[0m\u001b[0m\n\u001b[1;32m---> 64\u001b[1;33m       \u001b[1;32mreturn\u001b[0m \u001b[0mfn\u001b[0m\u001b[1;33m(\u001b[0m\u001b[1;33m*\u001b[0m\u001b[0margs\u001b[0m\u001b[1;33m,\u001b[0m \u001b[1;33m**\u001b[0m\u001b[0mkwargs\u001b[0m\u001b[1;33m)\u001b[0m\u001b[1;33m\u001b[0m\u001b[1;33m\u001b[0m\u001b[0m\n\u001b[0m\u001b[0;32m     65\u001b[0m     \u001b[1;32mexcept\u001b[0m \u001b[0mException\u001b[0m \u001b[1;32mas\u001b[0m \u001b[0me\u001b[0m\u001b[1;33m:\u001b[0m  \u001b[1;31m# pylint: disable=broad-except\u001b[0m\u001b[1;33m\u001b[0m\u001b[1;33m\u001b[0m\u001b[0m\n\u001b[0;32m     66\u001b[0m       \u001b[0mfiltered_tb\u001b[0m \u001b[1;33m=\u001b[0m \u001b[0m_process_traceback_frames\u001b[0m\u001b[1;33m(\u001b[0m\u001b[0me\u001b[0m\u001b[1;33m.\u001b[0m\u001b[0m__traceback__\u001b[0m\u001b[1;33m)\u001b[0m\u001b[1;33m\u001b[0m\u001b[1;33m\u001b[0m\u001b[0m\n",
      "\u001b[1;32m~\\anaconda3\\lib\\site-packages\\keras\\engine\\training.py\u001b[0m in \u001b[0;36mfit\u001b[1;34m(self, x, y, batch_size, epochs, verbose, callbacks, validation_split, validation_data, shuffle, class_weight, sample_weight, initial_epoch, steps_per_epoch, validation_steps, validation_batch_size, validation_freq, max_queue_size, workers, use_multiprocessing)\u001b[0m\n\u001b[0;32m   1214\u001b[0m                 _r=1):\n\u001b[0;32m   1215\u001b[0m               \u001b[0mcallbacks\u001b[0m\u001b[1;33m.\u001b[0m\u001b[0mon_train_batch_begin\u001b[0m\u001b[1;33m(\u001b[0m\u001b[0mstep\u001b[0m\u001b[1;33m)\u001b[0m\u001b[1;33m\u001b[0m\u001b[1;33m\u001b[0m\u001b[0m\n\u001b[1;32m-> 1216\u001b[1;33m               \u001b[0mtmp_logs\u001b[0m \u001b[1;33m=\u001b[0m \u001b[0mself\u001b[0m\u001b[1;33m.\u001b[0m\u001b[0mtrain_function\u001b[0m\u001b[1;33m(\u001b[0m\u001b[0miterator\u001b[0m\u001b[1;33m)\u001b[0m\u001b[1;33m\u001b[0m\u001b[1;33m\u001b[0m\u001b[0m\n\u001b[0m\u001b[0;32m   1217\u001b[0m               \u001b[1;32mif\u001b[0m \u001b[0mdata_handler\u001b[0m\u001b[1;33m.\u001b[0m\u001b[0mshould_sync\u001b[0m\u001b[1;33m:\u001b[0m\u001b[1;33m\u001b[0m\u001b[1;33m\u001b[0m\u001b[0m\n\u001b[0;32m   1218\u001b[0m                 \u001b[0mcontext\u001b[0m\u001b[1;33m.\u001b[0m\u001b[0masync_wait\u001b[0m\u001b[1;33m(\u001b[0m\u001b[1;33m)\u001b[0m\u001b[1;33m\u001b[0m\u001b[1;33m\u001b[0m\u001b[0m\n",
      "\u001b[1;32m~\\anaconda3\\lib\\site-packages\\tensorflow\\python\\util\\traceback_utils.py\u001b[0m in \u001b[0;36merror_handler\u001b[1;34m(*args, **kwargs)\u001b[0m\n\u001b[0;32m    148\u001b[0m     \u001b[0mfiltered_tb\u001b[0m \u001b[1;33m=\u001b[0m \u001b[1;32mNone\u001b[0m\u001b[1;33m\u001b[0m\u001b[1;33m\u001b[0m\u001b[0m\n\u001b[0;32m    149\u001b[0m     \u001b[1;32mtry\u001b[0m\u001b[1;33m:\u001b[0m\u001b[1;33m\u001b[0m\u001b[1;33m\u001b[0m\u001b[0m\n\u001b[1;32m--> 150\u001b[1;33m       \u001b[1;32mreturn\u001b[0m \u001b[0mfn\u001b[0m\u001b[1;33m(\u001b[0m\u001b[1;33m*\u001b[0m\u001b[0margs\u001b[0m\u001b[1;33m,\u001b[0m \u001b[1;33m**\u001b[0m\u001b[0mkwargs\u001b[0m\u001b[1;33m)\u001b[0m\u001b[1;33m\u001b[0m\u001b[1;33m\u001b[0m\u001b[0m\n\u001b[0m\u001b[0;32m    151\u001b[0m     \u001b[1;32mexcept\u001b[0m \u001b[0mException\u001b[0m \u001b[1;32mas\u001b[0m \u001b[0me\u001b[0m\u001b[1;33m:\u001b[0m\u001b[1;33m\u001b[0m\u001b[1;33m\u001b[0m\u001b[0m\n\u001b[0;32m    152\u001b[0m       \u001b[0mfiltered_tb\u001b[0m \u001b[1;33m=\u001b[0m \u001b[0m_process_traceback_frames\u001b[0m\u001b[1;33m(\u001b[0m\u001b[0me\u001b[0m\u001b[1;33m.\u001b[0m\u001b[0m__traceback__\u001b[0m\u001b[1;33m)\u001b[0m\u001b[1;33m\u001b[0m\u001b[1;33m\u001b[0m\u001b[0m\n",
      "\u001b[1;32m~\\anaconda3\\lib\\site-packages\\tensorflow\\python\\eager\\def_function.py\u001b[0m in \u001b[0;36m__call__\u001b[1;34m(self, *args, **kwds)\u001b[0m\n\u001b[0;32m    908\u001b[0m \u001b[1;33m\u001b[0m\u001b[0m\n\u001b[0;32m    909\u001b[0m       \u001b[1;32mwith\u001b[0m \u001b[0mOptionalXlaContext\u001b[0m\u001b[1;33m(\u001b[0m\u001b[0mself\u001b[0m\u001b[1;33m.\u001b[0m\u001b[0m_jit_compile\u001b[0m\u001b[1;33m)\u001b[0m\u001b[1;33m:\u001b[0m\u001b[1;33m\u001b[0m\u001b[1;33m\u001b[0m\u001b[0m\n\u001b[1;32m--> 910\u001b[1;33m         \u001b[0mresult\u001b[0m \u001b[1;33m=\u001b[0m \u001b[0mself\u001b[0m\u001b[1;33m.\u001b[0m\u001b[0m_call\u001b[0m\u001b[1;33m(\u001b[0m\u001b[1;33m*\u001b[0m\u001b[0margs\u001b[0m\u001b[1;33m,\u001b[0m \u001b[1;33m**\u001b[0m\u001b[0mkwds\u001b[0m\u001b[1;33m)\u001b[0m\u001b[1;33m\u001b[0m\u001b[1;33m\u001b[0m\u001b[0m\n\u001b[0m\u001b[0;32m    911\u001b[0m \u001b[1;33m\u001b[0m\u001b[0m\n\u001b[0;32m    912\u001b[0m       \u001b[0mnew_tracing_count\u001b[0m \u001b[1;33m=\u001b[0m \u001b[0mself\u001b[0m\u001b[1;33m.\u001b[0m\u001b[0mexperimental_get_tracing_count\u001b[0m\u001b[1;33m(\u001b[0m\u001b[1;33m)\u001b[0m\u001b[1;33m\u001b[0m\u001b[1;33m\u001b[0m\u001b[0m\n",
      "\u001b[1;32m~\\anaconda3\\lib\\site-packages\\tensorflow\\python\\eager\\def_function.py\u001b[0m in \u001b[0;36m_call\u001b[1;34m(self, *args, **kwds)\u001b[0m\n\u001b[0;32m    940\u001b[0m       \u001b[1;31m# In this case we have created variables on the first call, so we run the\u001b[0m\u001b[1;33m\u001b[0m\u001b[1;33m\u001b[0m\u001b[1;33m\u001b[0m\u001b[0m\n\u001b[0;32m    941\u001b[0m       \u001b[1;31m# defunned version which is guaranteed to never create variables.\u001b[0m\u001b[1;33m\u001b[0m\u001b[1;33m\u001b[0m\u001b[1;33m\u001b[0m\u001b[0m\n\u001b[1;32m--> 942\u001b[1;33m       \u001b[1;32mreturn\u001b[0m \u001b[0mself\u001b[0m\u001b[1;33m.\u001b[0m\u001b[0m_stateless_fn\u001b[0m\u001b[1;33m(\u001b[0m\u001b[1;33m*\u001b[0m\u001b[0margs\u001b[0m\u001b[1;33m,\u001b[0m \u001b[1;33m**\u001b[0m\u001b[0mkwds\u001b[0m\u001b[1;33m)\u001b[0m  \u001b[1;31m# pylint: disable=not-callable\u001b[0m\u001b[1;33m\u001b[0m\u001b[1;33m\u001b[0m\u001b[0m\n\u001b[0m\u001b[0;32m    943\u001b[0m     \u001b[1;32melif\u001b[0m \u001b[0mself\u001b[0m\u001b[1;33m.\u001b[0m\u001b[0m_stateful_fn\u001b[0m \u001b[1;32mis\u001b[0m \u001b[1;32mnot\u001b[0m \u001b[1;32mNone\u001b[0m\u001b[1;33m:\u001b[0m\u001b[1;33m\u001b[0m\u001b[1;33m\u001b[0m\u001b[0m\n\u001b[0;32m    944\u001b[0m       \u001b[1;31m# Release the lock early so that multiple threads can perform the call\u001b[0m\u001b[1;33m\u001b[0m\u001b[1;33m\u001b[0m\u001b[1;33m\u001b[0m\u001b[0m\n",
      "\u001b[1;32m~\\anaconda3\\lib\\site-packages\\tensorflow\\python\\eager\\function.py\u001b[0m in \u001b[0;36m__call__\u001b[1;34m(self, *args, **kwargs)\u001b[0m\n\u001b[0;32m   3128\u001b[0m       (graph_function,\n\u001b[0;32m   3129\u001b[0m        filtered_flat_args) = self._maybe_define_function(args, kwargs)\n\u001b[1;32m-> 3130\u001b[1;33m     return graph_function._call_flat(\n\u001b[0m\u001b[0;32m   3131\u001b[0m         filtered_flat_args, captured_inputs=graph_function.captured_inputs)  # pylint: disable=protected-access\n\u001b[0;32m   3132\u001b[0m \u001b[1;33m\u001b[0m\u001b[0m\n",
      "\u001b[1;32m~\\anaconda3\\lib\\site-packages\\tensorflow\\python\\eager\\function.py\u001b[0m in \u001b[0;36m_call_flat\u001b[1;34m(self, args, captured_inputs, cancellation_manager)\u001b[0m\n\u001b[0;32m   1957\u001b[0m         and executing_eagerly):\n\u001b[0;32m   1958\u001b[0m       \u001b[1;31m# No tape is watching; skip to running the function.\u001b[0m\u001b[1;33m\u001b[0m\u001b[1;33m\u001b[0m\u001b[1;33m\u001b[0m\u001b[0m\n\u001b[1;32m-> 1959\u001b[1;33m       return self._build_call_outputs(self._inference_function.call(\n\u001b[0m\u001b[0;32m   1960\u001b[0m           ctx, args, cancellation_manager=cancellation_manager))\n\u001b[0;32m   1961\u001b[0m     forward_backward = self._select_forward_and_backward_functions(\n",
      "\u001b[1;32m~\\anaconda3\\lib\\site-packages\\tensorflow\\python\\eager\\function.py\u001b[0m in \u001b[0;36mcall\u001b[1;34m(self, ctx, args, cancellation_manager)\u001b[0m\n\u001b[0;32m    596\u001b[0m       \u001b[1;32mwith\u001b[0m \u001b[0m_InterpolateFunctionError\u001b[0m\u001b[1;33m(\u001b[0m\u001b[0mself\u001b[0m\u001b[1;33m)\u001b[0m\u001b[1;33m:\u001b[0m\u001b[1;33m\u001b[0m\u001b[1;33m\u001b[0m\u001b[0m\n\u001b[0;32m    597\u001b[0m         \u001b[1;32mif\u001b[0m \u001b[0mcancellation_manager\u001b[0m \u001b[1;32mis\u001b[0m \u001b[1;32mNone\u001b[0m\u001b[1;33m:\u001b[0m\u001b[1;33m\u001b[0m\u001b[1;33m\u001b[0m\u001b[0m\n\u001b[1;32m--> 598\u001b[1;33m           outputs = execute.execute(\n\u001b[0m\u001b[0;32m    599\u001b[0m               \u001b[0mstr\u001b[0m\u001b[1;33m(\u001b[0m\u001b[0mself\u001b[0m\u001b[1;33m.\u001b[0m\u001b[0msignature\u001b[0m\u001b[1;33m.\u001b[0m\u001b[0mname\u001b[0m\u001b[1;33m)\u001b[0m\u001b[1;33m,\u001b[0m\u001b[1;33m\u001b[0m\u001b[1;33m\u001b[0m\u001b[0m\n\u001b[0;32m    600\u001b[0m               \u001b[0mnum_outputs\u001b[0m\u001b[1;33m=\u001b[0m\u001b[0mself\u001b[0m\u001b[1;33m.\u001b[0m\u001b[0m_num_outputs\u001b[0m\u001b[1;33m,\u001b[0m\u001b[1;33m\u001b[0m\u001b[1;33m\u001b[0m\u001b[0m\n",
      "\u001b[1;32m~\\anaconda3\\lib\\site-packages\\tensorflow\\python\\eager\\execute.py\u001b[0m in \u001b[0;36mquick_execute\u001b[1;34m(op_name, num_outputs, inputs, attrs, ctx, name)\u001b[0m\n\u001b[0;32m     56\u001b[0m   \u001b[1;32mtry\u001b[0m\u001b[1;33m:\u001b[0m\u001b[1;33m\u001b[0m\u001b[1;33m\u001b[0m\u001b[0m\n\u001b[0;32m     57\u001b[0m     \u001b[0mctx\u001b[0m\u001b[1;33m.\u001b[0m\u001b[0mensure_initialized\u001b[0m\u001b[1;33m(\u001b[0m\u001b[1;33m)\u001b[0m\u001b[1;33m\u001b[0m\u001b[1;33m\u001b[0m\u001b[0m\n\u001b[1;32m---> 58\u001b[1;33m     tensors = pywrap_tfe.TFE_Py_Execute(ctx._handle, device_name, op_name,\n\u001b[0m\u001b[0;32m     59\u001b[0m                                         inputs, attrs, num_outputs)\n\u001b[0;32m     60\u001b[0m   \u001b[1;32mexcept\u001b[0m \u001b[0mcore\u001b[0m\u001b[1;33m.\u001b[0m\u001b[0m_NotOkStatusException\u001b[0m \u001b[1;32mas\u001b[0m \u001b[0me\u001b[0m\u001b[1;33m:\u001b[0m\u001b[1;33m\u001b[0m\u001b[1;33m\u001b[0m\u001b[0m\n",
      "\u001b[1;31mKeyboardInterrupt\u001b[0m: "
     ]
    }
   ],
   "source": [
    "model_alt7 = Sequential([base_model,\n",
    "  layers.RandomFlip(\"horizontal_and_vertical\"),\n",
    "  layers.RandomRotation(0.2),\n",
    "])\n",
    "\n",
    "model_alt7.add(Flatten(input_shape = (128, 128, 3)))\n",
    "model_alt7.add(Dense(256, activation = 'relu'))\n",
    "model_alt7.add(Dense(200, activation = 'relu'))\n",
    "model_alt7.add(Dense(128, activation = 'relu'))\n",
    "model_alt7.add(Dense(128, activation = 'relu'))\n",
    "model_alt7.add(Dense(64, activation = 'relu'))\n",
    "model_alt7.add(Dense(48, activation = 'relu'))\n",
    "\n",
    "model_alt7.add(Dense(13, activation = 'softmax'))\n",
    "# Compile model.\n",
    "model_alt7.compile(loss='categorical_crossentropy',\n",
    "              optimizer='adam',\n",
    "              metrics=['accuracy'])\n",
    "\n",
    "history_alt7  = model_alt7.fit(X_train_alt,\n",
    "                    y_train_alt, \n",
    "                    batch_size=256,\n",
    "                    validation_data=(X_test_alt, y_test_alt),\n",
    "                    epochs=30,\n",
    "                    verbose=1)"
   ]
  },
  {
   "cell_type": "code",
   "execution_count": null,
   "id": "fffbeed0-5670-4e4f-86bc-516325807fe6",
   "metadata": {},
   "outputs": [],
   "source": [
    "history_full=[\n",
    "(\"Run 5\",history_alt5.history['accuracy'][-1], history_alt5.history['val_accuracy'][-1]),\n",
    "(\"Run 6\",history_alt6.history['accuracy'][-1], history_alt6.history['val_accuracy'][-1])\n",
    "]\n",
    "history_full"
   ]
  },
  {
   "cell_type": "code",
   "execution_count": null,
   "id": "6344b3b6-a399-4d07-8842-40fbc1d76784",
   "metadata": {},
   "outputs": [],
   "source": [
    "df = pd.DataFrame(history_full, columns=['Name','Training Accuracy', 'Testing Accuracy'])\n",
    "\n",
    "df.head()"
   ]
  },
  {
   "cell_type": "code",
   "execution_count": null,
   "id": "51d18390-fb4b-4a47-84a8-5a8da0f302ba",
   "metadata": {},
   "outputs": [],
   "source": [
    "## Confusion Matrix"
   ]
  },
  {
   "cell_type": "code",
   "execution_count": null,
   "id": "53ed81ff-cbe2-4bcd-858e-42f74c00936d",
   "metadata": {},
   "outputs": [],
   "source": [
    "# Prep data for confusion matrix\n",
    "predictions=model7.predict(X_test) \n",
    "pred_f=np.argmax(predictions,axis=1)\n",
    "y_test_f=np.argmax(y_test,axis=1)"
   ]
  },
  {
   "cell_type": "code",
   "execution_count": null,
   "id": "66a07ec9-4a4c-4ad2-acd6-aa286bc6ef2c",
   "metadata": {},
   "outputs": [],
   "source": [
    "cm = metrics.confusion_matrix(y_test_f, pred_f)\n",
    "cm"
   ]
  },
  {
   "cell_type": "code",
   "execution_count": null,
   "id": "31704976-7b6f-441e-9662-88c618c0a4cf",
   "metadata": {},
   "outputs": [],
   "source": [
    "class_names=[\n",
    "\"ANSERIFORMES\",\n",
    "\"CAPRIMULGIFORMES\",\n",
    "\"CHARADRIIFORMES\",\n",
    "\"CORACIIFORMES\",\n",
    "\"CUCULIFORMES\",\n",
    "\"GAVIIFORMES\",\n",
    "\"PASSERIFORMES\",\n",
    "\"PELECANIFORMES\",\n",
    "\"PICIFORMES\",\n",
    "\"PODICIPEDIFORMES\",\n",
    "\"PROCELLARIIFORMES\",\n",
    "\"SULIFORMES\"\n",
    "]"
   ]
  },
  {
   "cell_type": "code",
   "execution_count": null,
   "id": "52c5db8d-4ae7-4f71-b962-9818e4776059",
   "metadata": {},
   "outputs": [],
   "source": [
    "disp = ConfusionMatrixDisplay(confusion_matrix=cm, display_labels=class_names)\n",
    "disp.plot();"
   ]
  }
 ],
 "metadata": {
  "kernelspec": {
   "display_name": "Python 3",
   "language": "python",
   "name": "python3"
  },
  "language_info": {
   "codemirror_mode": {
    "name": "ipython",
    "version": 3
   },
   "file_extension": ".py",
   "mimetype": "text/x-python",
   "name": "python",
   "nbconvert_exporter": "python",
   "pygments_lexer": "ipython3",
   "version": "3.8.8"
  }
 },
 "nbformat": 4,
 "nbformat_minor": 5
}
