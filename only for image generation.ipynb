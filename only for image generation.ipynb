{
 "cells": [
  {
   "cell_type": "markdown",
   "id": "1d998daf-7a6c-40d8-8eb6-c5970eab6eca",
   "metadata": {},
   "source": [
    "# Step 2: Modeling Using Order Level Classifications"
   ]
  },
  {
   "cell_type": "code",
   "execution_count": 1,
   "id": "56b9861c-0add-42cc-971c-7c05f463ed3c",
   "metadata": {},
   "outputs": [],
   "source": [
    "# Imports & Setup:\n",
    "\n",
    "import numpy as np\n",
    "import pandas as pd\n",
    "import matplotlib.pyplot as plt\n",
    "import seaborn as sns\n",
    "import os\n",
    "import PIL\n",
    "import PIL.Image\n",
    "from PIL import Image\n",
    "import tensorflow as tf\n",
    "import tensorflow_datasets as tfds\n",
    "from sklearn.model_selection import train_test_split\n",
    "from sklearn import metrics\n",
    "from sklearn.metrics import ConfusionMatrixDisplay\n",
    "\n",
    "%matplotlib inline\n",
    "\n",
    "import warnings\n",
    "warnings.filterwarnings('ignore')\n",
    "\n",
    "from tensorflow.keras.models import Sequential\n",
    "from tensorflow.keras.layers import Dense, Dropout, Flatten, Conv2D, MaxPooling2D\n",
    "from tensorflow.keras import utils\n",
    "from tensorflow.keras import layers\n",
    "from tensorflow.keras.callbacks import EarlyStopping\n",
    "\n",
    "tf.random.set_seed(42)"
   ]
  },
  {
   "cell_type": "markdown",
   "id": "0458dca6-c4f4-418c-9d8a-9ba5eebabf18",
   "metadata": {},
   "source": [
    "### Read in Data"
   ]
  },
  {
   "cell_type": "code",
   "execution_count": 2,
   "id": "8a5b387a-b4c8-496b-ba74-caf178e89525",
   "metadata": {},
   "outputs": [],
   "source": [
    "# function to load in and process images\n",
    "def load_image(path):\n",
    "    images = Image.open(f'./../CUB_200_2011/images/{path}') \n",
    "    new_image=images.resize((128,128))\n",
    "    color_image=new_image.convert(\"RGB\")\n",
    "    arrays1 = np.asarray(color_image)\n",
    "    floaters= arrays1.astype('float32')\n",
    "    floaters2=floaters/255.0\n",
    "    return floaters2"
   ]
  },
  {
   "cell_type": "code",
   "execution_count": 3,
   "id": "51dbcb63-e40b-41bc-9081-171de51632c5",
   "metadata": {},
   "outputs": [
    {
     "data": {
      "text/html": [
       "<div>\n",
       "<style scoped>\n",
       "    .dataframe tbody tr th:only-of-type {\n",
       "        vertical-align: middle;\n",
       "    }\n",
       "\n",
       "    .dataframe tbody tr th {\n",
       "        vertical-align: top;\n",
       "    }\n",
       "\n",
       "    .dataframe thead th {\n",
       "        text-align: right;\n",
       "    }\n",
       "</style>\n",
       "<table border=\"1\" class=\"dataframe\">\n",
       "  <thead>\n",
       "    <tr style=\"text-align: right;\">\n",
       "      <th></th>\n",
       "      <th>F1</th>\n",
       "      <th>Image Id</th>\n",
       "      <th>Image Name</th>\n",
       "      <th>Is Training Image</th>\n",
       "      <th>Class Id</th>\n",
       "      <th>Class Name</th>\n",
       "      <th>Species Gen</th>\n",
       "      <th>Order</th>\n",
       "      <th>Order_Num_Seq</th>\n",
       "      <th>Species</th>\n",
       "      <th>Species_Num_Seq</th>\n",
       "      <th>Family</th>\n",
       "      <th>Family_Num_Seq</th>\n",
       "    </tr>\n",
       "  </thead>\n",
       "  <tbody>\n",
       "    <tr>\n",
       "      <th>0</th>\n",
       "      <td>0</td>\n",
       "      <td>1</td>\n",
       "      <td>001.Black_footed_Albatross/Black_Footed_Albatr...</td>\n",
       "      <td>0</td>\n",
       "      <td>1</td>\n",
       "      <td>001.Black_footed_Albatross</td>\n",
       "      <td>Albatrosses</td>\n",
       "      <td>PROCELLARIIFORMES</td>\n",
       "      <td>11</td>\n",
       "      <td>Albatrosses</td>\n",
       "      <td>1</td>\n",
       "      <td>Diomedeidae</td>\n",
       "      <td>11</td>\n",
       "    </tr>\n",
       "    <tr>\n",
       "      <th>1</th>\n",
       "      <td>1</td>\n",
       "      <td>2</td>\n",
       "      <td>001.Black_footed_Albatross/Black_Footed_Albatr...</td>\n",
       "      <td>1</td>\n",
       "      <td>1</td>\n",
       "      <td>001.Black_footed_Albatross</td>\n",
       "      <td>Albatrosses</td>\n",
       "      <td>PROCELLARIIFORMES</td>\n",
       "      <td>11</td>\n",
       "      <td>Albatrosses</td>\n",
       "      <td>1</td>\n",
       "      <td>Diomedeidae</td>\n",
       "      <td>11</td>\n",
       "    </tr>\n",
       "    <tr>\n",
       "      <th>2</th>\n",
       "      <td>2</td>\n",
       "      <td>3</td>\n",
       "      <td>001.Black_footed_Albatross/Black_Footed_Albatr...</td>\n",
       "      <td>0</td>\n",
       "      <td>1</td>\n",
       "      <td>001.Black_footed_Albatross</td>\n",
       "      <td>Albatrosses</td>\n",
       "      <td>PROCELLARIIFORMES</td>\n",
       "      <td>11</td>\n",
       "      <td>Albatrosses</td>\n",
       "      <td>1</td>\n",
       "      <td>Diomedeidae</td>\n",
       "      <td>11</td>\n",
       "    </tr>\n",
       "    <tr>\n",
       "      <th>3</th>\n",
       "      <td>3</td>\n",
       "      <td>4</td>\n",
       "      <td>001.Black_footed_Albatross/Black_Footed_Albatr...</td>\n",
       "      <td>1</td>\n",
       "      <td>1</td>\n",
       "      <td>001.Black_footed_Albatross</td>\n",
       "      <td>Albatrosses</td>\n",
       "      <td>PROCELLARIIFORMES</td>\n",
       "      <td>11</td>\n",
       "      <td>Albatrosses</td>\n",
       "      <td>1</td>\n",
       "      <td>Diomedeidae</td>\n",
       "      <td>11</td>\n",
       "    </tr>\n",
       "    <tr>\n",
       "      <th>4</th>\n",
       "      <td>4</td>\n",
       "      <td>5</td>\n",
       "      <td>001.Black_footed_Albatross/Black_Footed_Albatr...</td>\n",
       "      <td>1</td>\n",
       "      <td>1</td>\n",
       "      <td>001.Black_footed_Albatross</td>\n",
       "      <td>Albatrosses</td>\n",
       "      <td>PROCELLARIIFORMES</td>\n",
       "      <td>11</td>\n",
       "      <td>Albatrosses</td>\n",
       "      <td>1</td>\n",
       "      <td>Diomedeidae</td>\n",
       "      <td>11</td>\n",
       "    </tr>\n",
       "  </tbody>\n",
       "</table>\n",
       "</div>"
      ],
      "text/plain": [
       "   F1  Image Id                                         Image Name  \\\n",
       "0   0         1  001.Black_footed_Albatross/Black_Footed_Albatr...   \n",
       "1   1         2  001.Black_footed_Albatross/Black_Footed_Albatr...   \n",
       "2   2         3  001.Black_footed_Albatross/Black_Footed_Albatr...   \n",
       "3   3         4  001.Black_footed_Albatross/Black_Footed_Albatr...   \n",
       "4   4         5  001.Black_footed_Albatross/Black_Footed_Albatr...   \n",
       "\n",
       "   Is Training Image  Class Id                  Class Name  Species Gen  \\\n",
       "0                  0         1  001.Black_footed_Albatross  Albatrosses   \n",
       "1                  1         1  001.Black_footed_Albatross  Albatrosses   \n",
       "2                  0         1  001.Black_footed_Albatross  Albatrosses   \n",
       "3                  1         1  001.Black_footed_Albatross  Albatrosses   \n",
       "4                  1         1  001.Black_footed_Albatross  Albatrosses   \n",
       "\n",
       "               Order  Order_Num_Seq      Species  Species_Num_Seq  \\\n",
       "0  PROCELLARIIFORMES             11  Albatrosses                1   \n",
       "1  PROCELLARIIFORMES             11  Albatrosses                1   \n",
       "2  PROCELLARIIFORMES             11  Albatrosses                1   \n",
       "3  PROCELLARIIFORMES             11  Albatrosses                1   \n",
       "4  PROCELLARIIFORMES             11  Albatrosses                1   \n",
       "\n",
       "        Family  Family_Num_Seq  \n",
       "0  Diomedeidae              11  \n",
       "1  Diomedeidae              11  \n",
       "2  Diomedeidae              11  \n",
       "3  Diomedeidae              11  \n",
       "4  Diomedeidae              11  "
      ]
     },
     "execution_count": 3,
     "metadata": {},
     "output_type": "execute_result"
    }
   ],
   "source": [
    "class_map_dir= pd.read_csv('Tables/class_map_dir_output_new_classes_f.csv')\n",
    "class_map_dir.head(5)"
   ]
  },
  {
   "cell_type": "code",
   "execution_count": 4,
   "id": "d3c23e13-9689-424f-8736-5303034bff67",
   "metadata": {},
   "outputs": [],
   "source": [
    "# read in class names for order, convert to title text format\n",
    "class_names=[\n",
    "\"ANSERIFORMES\",\n",
    "\"CAPRIMULGIFORMES\",\n",
    "\"CHARADRIIFORMES\",\n",
    "\"CORACIIFORMES\",\n",
    "\"CUCULIFORMES\",\n",
    "\"GAVIIFORMES\",\n",
    "\"PASSERIFORMES\",\n",
    "\"PELECANIFORMES\",\n",
    "\"PICIFORMES\",\n",
    "\"PODICIPEDIFORMES\",\n",
    "\"PROCELLARIIFORMES\",\n",
    "\"SULIFORMES\"\n",
    "]\n",
    "\n",
    "proper_class_names=[i.title() for i in class_names]\n"
   ]
  },
  {
   "cell_type": "markdown",
   "id": "568810db-52ce-411f-8701-7a6557072b30",
   "metadata": {},
   "source": [
    "## Set up train/test split\n"
   ]
  },
  {
   "cell_type": "code",
   "execution_count": 5,
   "id": "05481bd6-cc25-4ce4-9007-686c2218c996",
   "metadata": {},
   "outputs": [],
   "source": [
    "class_map_dir_train=class_map_dir.loc[class_map_dir['Is Training Image']==1]\n",
    "list_of_images_train=[load_image(i) for i in class_map_dir_train['Image Name']]\n",
    "array_of_img_train=np.asarray(list_of_images_train)\n",
    "list_of_labels_train=class_map_dir_train['Order_Num_Seq']"
   ]
  },
  {
   "cell_type": "code",
   "execution_count": 6,
   "id": "b89080cb-4655-4d97-a2db-715aa17c6c9c",
   "metadata": {},
   "outputs": [],
   "source": [
    "class_map_dir_test=class_map_dir.loc[class_map_dir['Is Training Image']==0]\n",
    "list_of_images_test=[load_image(i) for i in class_map_dir_test['Image Name']]\n",
    "array_of_img_test=np.asarray(list_of_images_test)\n",
    "list_of_labels_test=class_map_dir_test['Order_Num_Seq']"
   ]
  },
  {
   "cell_type": "code",
   "execution_count": 7,
   "id": "6526ccc7-8fcd-4b21-8efc-e94b973eed0d",
   "metadata": {},
   "outputs": [
    {
     "name": "stdout",
     "output_type": "stream",
     "text": [
      "5994\n",
      "5994\n",
      "5794\n",
      "5794\n"
     ]
    }
   ],
   "source": [
    "# sanity check length of train datasets\n",
    "print(len(list_of_images_train))\n",
    "print(len(list_of_labels_train))\n",
    "\n",
    "# sanity check length of test datasets\n",
    "print(len(list_of_images_test))\n",
    "print(len(list_of_labels_test))"
   ]
  },
  {
   "cell_type": "code",
   "execution_count": 8,
   "id": "78901cfd-04b4-4e77-9b08-62990a349b9b",
   "metadata": {},
   "outputs": [],
   "source": [
    "X_train_alt=array_of_img_train\n",
    "y_train_alt=list_of_labels_train\n",
    "\n",
    "X_test_alt=array_of_img_test\n",
    "y_test_alt=list_of_labels_test\n",
    "\n",
    "X_train_alt = X_train_alt.reshape(X_train_alt.shape[0], 128, 128, 3)\n",
    "X_test_alt = X_test_alt.reshape(X_test_alt.shape[0], 128, 128, 3)\n",
    "y_train_alt = utils.to_categorical(y_train_alt,13)\n",
    "y_test_alt = utils.to_categorical(y_test_alt,13)\n"
   ]
  },
  {
   "cell_type": "code",
   "execution_count": 9,
   "id": "9937d98f-ac78-40e7-a5a1-5ce815a606bc",
   "metadata": {},
   "outputs": [
    {
     "name": "stdout",
     "output_type": "stream",
     "text": [
      "WARNING:tensorflow:Error in loading the saved optimizer state. As a result, your model is starting with a freshly initialized optimizer.\n"
     ]
    }
   ],
   "source": [
    "# work with the saved model \n",
    "saved_model_order = tf.keras.models.load_model('saved_models/order_est_v2.h5')"
   ]
  },
  {
   "cell_type": "code",
   "execution_count": 17,
   "id": "0f767bb0-9688-4f48-99bd-7e979141580c",
   "metadata": {},
   "outputs": [
    {
     "name": "stdout",
     "output_type": "stream",
     "text": [
      "Model: \"sequential\"\n",
      "_________________________________________________________________\n",
      " Layer (type)                Output Shape              Param #   \n",
      "=================================================================\n",
      " mobilenetv2_1.00_128 (Funct  (None, 4, 4, 1280)       2257984   \n",
      " ional)                                                          \n",
      "                                                                 \n",
      " random_flip (RandomFlip)    (None, 4, 4, 1280)        0         \n",
      "                                                                 \n",
      " random_rotation (RandomRota  (None, 4, 4, 1280)       0         \n",
      " tion)                                                           \n",
      "                                                                 \n",
      " batch_normalization (BatchN  (None, 4, 4, 1280)       5120      \n",
      " ormalization)                                                   \n",
      "                                                                 \n",
      " flatten (Flatten)           (None, 20480)             0         \n",
      "                                                                 \n",
      " dense (Dense)               (None, 256)               5243136   \n",
      "                                                                 \n",
      " dense_1 (Dense)             (None, 256)               65792     \n",
      "                                                                 \n",
      " dropout (Dropout)           (None, 256)               0         \n",
      "                                                                 \n",
      " dense_2 (Dense)             (None, 128)               32896     \n",
      "                                                                 \n",
      " dense_3 (Dense)             (None, 64)                8256      \n",
      "                                                                 \n",
      " dropout_1 (Dropout)         (None, 64)                0         \n",
      "                                                                 \n",
      " dense_4 (Dense)             (None, 64)                4160      \n",
      "                                                                 \n",
      " dropout_2 (Dropout)         (None, 64)                0         \n",
      "                                                                 \n",
      " dense_5 (Dense)             (None, 48)                3120      \n",
      "                                                                 \n",
      " dense_6 (Dense)             (None, 13)                637       \n",
      "                                                                 \n",
      "=================================================================\n",
      "Total params: 7,621,101\n",
      "Trainable params: 7,584,429\n",
      "Non-trainable params: 36,672\n",
      "_________________________________________________________________\n"
     ]
    }
   ],
   "source": [
    "output=saved_model_order.summary()"
   ]
  },
  {
   "cell_type": "code",
   "execution_count": 19,
   "id": "fa9c9a48-4265-46da-8b74-8d350cbce3c6",
   "metadata": {},
   "outputs": [
    {
     "name": "stdout",
     "output_type": "stream",
     "text": [
      "Model: \"sequential\"\n",
      "_________________________________________________________________\n",
      " Layer (type)                Output Shape              Param #   \n",
      "=================================================================\n",
      " mobilenetv2_1.00_128 (Funct  (None, 4, 4, 1280)       2257984   \n",
      " ional)                                                          \n",
      "                                                                 \n",
      " random_flip (RandomFlip)    (None, 4, 4, 1280)        0         \n",
      "                                                                 \n",
      " random_rotation (RandomRota  (None, 4, 4, 1280)       0         \n",
      " tion)                                                           \n",
      "                                                                 \n",
      " batch_normalization (BatchN  (None, 4, 4, 1280)       5120      \n",
      " ormalization)                                                   \n",
      "                                                                 \n",
      " flatten (Flatten)           (None, 20480)             0         \n",
      "                                                                 \n",
      " dense (Dense)               (None, 256)               5243136   \n",
      "                                                                 \n",
      " dense_1 (Dense)             (None, 256)               65792     \n",
      "                                                                 \n",
      " dropout (Dropout)           (None, 256)               0         \n",
      "                                                                 \n",
      " dense_2 (Dense)             (None, 128)               32896     \n",
      "                                                                 \n",
      " dense_3 (Dense)             (None, 64)                8256      \n",
      "                                                                 \n",
      " dropout_1 (Dropout)         (None, 64)                0         \n",
      "                                                                 \n",
      " dense_4 (Dense)             (None, 64)                4160      \n",
      "                                                                 \n",
      " dropout_2 (Dropout)         (None, 64)                0         \n",
      "                                                                 \n",
      " dense_5 (Dense)             (None, 48)                3120      \n",
      "                                                                 \n",
      " dense_6 (Dense)             (None, 13)                637       \n",
      "                                                                 \n",
      "=================================================================\n",
      "Total params: 7,621,101\n",
      "Trainable params: 7,584,429\n",
      "Non-trainable params: 36,672\n",
      "_________________________________________________________________\n"
     ]
    },
    {
     "ename": "AttributeError",
     "evalue": "'NoneType' object has no attribute 'save'",
     "output_type": "error",
     "traceback": [
      "\u001b[1;31m---------------------------------------------------------------------------\u001b[0m",
      "\u001b[1;31mAttributeError\u001b[0m                            Traceback (most recent call last)",
      "\u001b[1;32m<ipython-input-19-817b1a3feff6>\u001b[0m in \u001b[0;36m<module>\u001b[1;34m\u001b[0m\n\u001b[1;32m----> 1\u001b[1;33m \u001b[0mim1\u001b[0m \u001b[1;33m=\u001b[0m \u001b[0msaved_model_order\u001b[0m\u001b[1;33m.\u001b[0m\u001b[0msummary\u001b[0m\u001b[1;33m(\u001b[0m\u001b[1;33m)\u001b[0m\u001b[1;33m.\u001b[0m\u001b[0msave\u001b[0m\u001b[1;33m(\u001b[0m\u001b[1;34m\"model_summary.jpg\"\u001b[0m\u001b[1;33m)\u001b[0m\u001b[1;33m\u001b[0m\u001b[1;33m\u001b[0m\u001b[0m\n\u001b[0m",
      "\u001b[1;31mAttributeError\u001b[0m: 'NoneType' object has no attribute 'save'"
     ]
    }
   ],
   "source": [
    "im1 = saved_model_order.summary().save(\"model_summary.jpg\")"
   ]
  },
  {
   "cell_type": "markdown",
   "id": "7b642a17-c8b8-4052-9a5a-d7e3f9d317c9",
   "metadata": {},
   "source": [
    "## Confusion Matrix"
   ]
  },
  {
   "cell_type": "code",
   "execution_count": 11,
   "id": "c866b75d-99d8-4a09-9456-07e9d2779220",
   "metadata": {},
   "outputs": [],
   "source": [
    "# Prep data for confusion matrix\n",
    "predictions=saved_model_order.predict(X_test_alt) \n",
    "pred_f=np.argmax(predictions,axis=1)\n",
    "y_test_f=np.argmax(y_test_alt,axis=1)"
   ]
  },
  {
   "cell_type": "code",
   "execution_count": 15,
   "id": "05e467d6-ea53-4b33-b6a6-29ce25b3adc5",
   "metadata": {},
   "outputs": [
    {
     "data": {
      "image/png": "[encoded data removed]",
      "text/plain": [
       "<Figure size 1440x1440 with 2 Axes>"
      ]
     },
     "metadata": {
      "needs_background": "light"
     },
     "output_type": "display_data"
    }
   ],
   "source": [
    "# build normalized confusion matrix display\n",
    "cm = metrics.confusion_matrix(y_test_f, pred_f, normalize='true') #set normalize = true to see the % distribution by row \n",
    "fig, ax = plt.subplots(figsize=(20, 20))\n",
    "disp = ConfusionMatrixDisplay(confusion_matrix=cm, display_labels=proper_class_names)\n",
    "ax.set_title('Normalized Confusion Matrix - Order', fontsize=15)\n",
    "disp.plot(ax=ax, cmap='PuBuGn',values_format='.2f')\n",
    "plt.xticks(rotation=90)\n",
    "plt.xlabel('Predicted Value', fontsize = 12)\n",
    "plt.ylabel('True Values', fontsize = 12);\n",
    "plt.savefig('Visualizations/order_confusion_matrix.png');"
   ]
  },
  {
   "cell_type": "code",
   "execution_count": null,
   "id": "7899526a-b23d-48fc-a07d-fb7dd157bf26",
   "metadata": {},
   "outputs": [],
   "source": []
  }
 ],
 "metadata": {
  "kernelspec": {
   "display_name": "Python 3",
   "language": "python",
   "name": "python3"
  },
  "language_info": {
   "codemirror_mode": {
    "name": "ipython",
    "version": 3
   },
   "file_extension": ".py",
   "mimetype": "text/x-python",
   "name": "python",
   "nbconvert_exporter": "python",
   "pygments_lexer": "ipython3",
   "version": "3.8.8"
  }
 },
 "nbformat": 4,
 "nbformat_minor": 5
}
